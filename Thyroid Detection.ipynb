{
 "cells": [
  {
   "cell_type": "markdown",
   "metadata": {
    "id": "wnpiHavaY3II"
   },
   "source": [
    "Importing python packages required for Exploratory Data Analysis"
   ]
  },
  {
   "cell_type": "code",
   "execution_count": 1,
   "metadata": {
    "id": "vE01K-TiuVT8"
   },
   "outputs": [],
   "source": [
    "import warnings\n",
    "warnings.filterwarnings('ignore')\n",
    "import pandas as pd #provides data structures to quickly analyze data\n",
    "import numpy as np\n",
    "import matplotlib.pyplot as plot\n",
    "import seaborn as sns\n",
    "from sklearn.utils import resample\n",
    "from imblearn.over_sampling import RandomOverSampler\n",
    "from sklearn.impute import KNNImputer\n",
    "from sklearn.preprocessing import LabelEncoder\n",
    "sns.set()"
   ]
  },
  {
   "cell_type": "markdown",
   "metadata": {
    "id": "XAQqSjluZTnT"
   },
   "source": [
    "Importing the Hypothyroid CSV file"
   ]
  },
  {
   "cell_type": "code",
   "execution_count": 2,
   "metadata": {
    "id": "b9yxr5LtZQ7P"
   },
   "outputs": [],
   "source": [
    "dataset = pd.read_csv(\"hypothyroid.csv\")"
   ]
  },
  {
   "cell_type": "markdown",
   "metadata": {
    "id": "a2wvq-8u5xkF"
   },
   "source": [
    "The **.columns** function will help us understand what colums are present in the dataset"
   ]
  },
  {
   "cell_type": "code",
   "execution_count": 3,
   "metadata": {
    "colab": {
     "base_uri": "https://localhost:8080/"
    },
    "id": "JiEzM3wh5p86",
    "outputId": "9b3451f0-e2e9-41f7-c695-d69a5648c05f"
   },
   "outputs": [
    {
     "data": {
      "text/plain": [
       "Index(['age', 'sex', 'on_thyroxine', 'query_on_thyroxine',\n",
       "       'on_antithyroid_medication', 'sick', 'pregnant', 'thyroid_surgery',\n",
       "       'I131_treatment', 'query_hypothyroid', 'query_hyperthyroid', 'lithium',\n",
       "       'goitre', 'tumor', 'hypopituitary', 'psych', 'TSH_measured', 'TSH',\n",
       "       'T3_measured', 'T3', 'TT4_measured', 'TT4', 'T4U_measured', 'T4U',\n",
       "       'FTI_measured', 'FTI', 'TBG_measured', 'TBG', 'referral_source',\n",
       "       'Class'],\n",
       "      dtype='object')"
      ]
     },
     "execution_count": 3,
     "metadata": {},
     "output_type": "execute_result"
    }
   ],
   "source": [
    "dataset.columns"
   ]
  },
  {
   "cell_type": "markdown",
   "metadata": {
    "id": "Zt_FKtCPxr1t"
   },
   "source": [
    "## Data Statistics\n",
    "> \n",
    "In this section we will understand the key features of the data ranging from the size of the dataset to what types of variables are present,this helps us manage outliers and missing values\n",
    "\n"
   ]
  },
  {
   "cell_type": "markdown",
   "metadata": {
    "id": "vqCOHZ8hav2H"
   },
   "source": [
    "1) Shape \n",
    "\n",
    "\n",
    "> This function returns the size of the dataframe in rows and columns\n",
    "\n"
   ]
  },
  {
   "cell_type": "code",
   "execution_count": 4,
   "metadata": {
    "colab": {
     "base_uri": "https://localhost:8080/"
    },
    "id": "yVhlilMLxx70",
    "outputId": "f7ace439-f988-40d9-951d-e04ab2f7a851"
   },
   "outputs": [
    {
     "name": "stdout",
     "output_type": "stream",
     "text": [
      "(3772, 30)\n"
     ]
    }
   ],
   "source": [
    "#size of dataframe in use (rows,columns)\n",
    "print(dataset.shape)"
   ]
  },
  {
   "cell_type": "markdown",
   "metadata": {
    "id": "1b0HwstDyleD"
   },
   "source": [
    "2) Datatypes\n",
    "\n",
    "\n",
    "> This function returns the datatypes of all attributes present in the dataset\n",
    "\n"
   ]
  },
  {
   "cell_type": "code",
   "execution_count": 5,
   "metadata": {
    "colab": {
     "base_uri": "https://localhost:8080/"
    },
    "id": "5vcgP96iyo-N",
    "outputId": "4cda453e-aa2d-4124-9cac-31d918711599"
   },
   "outputs": [
    {
     "name": "stdout",
     "output_type": "stream",
     "text": [
      "age                          object\n",
      "sex                          object\n",
      "on_thyroxine                 object\n",
      "query_on_thyroxine           object\n",
      "on_antithyroid_medication    object\n",
      "sick                         object\n",
      "pregnant                     object\n",
      "thyroid_surgery              object\n",
      "I131_treatment               object\n",
      "query_hypothyroid            object\n",
      "query_hyperthyroid           object\n",
      "lithium                      object\n",
      "goitre                       object\n",
      "tumor                        object\n",
      "hypopituitary                object\n",
      "psych                        object\n",
      "TSH_measured                 object\n",
      "TSH                          object\n",
      "T3_measured                  object\n",
      "T3                           object\n",
      "TT4_measured                 object\n",
      "TT4                          object\n",
      "T4U_measured                 object\n",
      "T4U                          object\n",
      "FTI_measured                 object\n",
      "FTI                          object\n",
      "TBG_measured                 object\n",
      "TBG                          object\n",
      "referral_source              object\n",
      "Class                        object\n",
      "dtype: object\n"
     ]
    }
   ],
   "source": [
    "#datatypes of all the attributes\n",
    "print(dataset.dtypes)"
   ]
  },
  {
   "cell_type": "markdown",
   "metadata": {
    "id": "KxekAEob2c72"
   },
   "source": [
    "3) Description\n",
    "\n",
    "\n",
    ">As the name suggest the describe function provides description of the dataset,as we can see above the attributes in this dataset are categorical values hence the .describe() function provides information like count,unique,top and frequency of attributes,as opposed to mean,standard deviation etc appearing when the attributes are numerical values  \n",
    "\n"
   ]
  },
  {
   "cell_type": "code",
   "execution_count": 6,
   "metadata": {
    "colab": {
     "base_uri": "https://localhost:8080/",
     "height": 192
    },
    "id": "4v2qAl2M2fVa",
    "outputId": "54d5480a-6d93-4886-f3b9-6bd8c2a8e01a"
   },
   "outputs": [
    {
     "data": {
      "text/html": [
       "<div>\n",
       "<style scoped>\n",
       "    .dataframe tbody tr th:only-of-type {\n",
       "        vertical-align: middle;\n",
       "    }\n",
       "\n",
       "    .dataframe tbody tr th {\n",
       "        vertical-align: top;\n",
       "    }\n",
       "\n",
       "    .dataframe thead th {\n",
       "        text-align: right;\n",
       "    }\n",
       "</style>\n",
       "<table border=\"1\" class=\"dataframe\">\n",
       "  <thead>\n",
       "    <tr style=\"text-align: right;\">\n",
       "      <th></th>\n",
       "      <th>age</th>\n",
       "      <th>sex</th>\n",
       "      <th>on_thyroxine</th>\n",
       "      <th>query_on_thyroxine</th>\n",
       "      <th>on_antithyroid_medication</th>\n",
       "      <th>sick</th>\n",
       "      <th>pregnant</th>\n",
       "      <th>thyroid_surgery</th>\n",
       "      <th>I131_treatment</th>\n",
       "      <th>query_hypothyroid</th>\n",
       "      <th>...</th>\n",
       "      <th>TT4_measured</th>\n",
       "      <th>TT4</th>\n",
       "      <th>T4U_measured</th>\n",
       "      <th>T4U</th>\n",
       "      <th>FTI_measured</th>\n",
       "      <th>FTI</th>\n",
       "      <th>TBG_measured</th>\n",
       "      <th>TBG</th>\n",
       "      <th>referral_source</th>\n",
       "      <th>Class</th>\n",
       "    </tr>\n",
       "  </thead>\n",
       "  <tbody>\n",
       "    <tr>\n",
       "      <th>count</th>\n",
       "      <td>3772</td>\n",
       "      <td>3772</td>\n",
       "      <td>3772</td>\n",
       "      <td>3772</td>\n",
       "      <td>3772</td>\n",
       "      <td>3772</td>\n",
       "      <td>3772</td>\n",
       "      <td>3772</td>\n",
       "      <td>3772</td>\n",
       "      <td>3772</td>\n",
       "      <td>...</td>\n",
       "      <td>3772</td>\n",
       "      <td>3772</td>\n",
       "      <td>3772</td>\n",
       "      <td>3772</td>\n",
       "      <td>3772</td>\n",
       "      <td>3772</td>\n",
       "      <td>3772</td>\n",
       "      <td>3772</td>\n",
       "      <td>3772</td>\n",
       "      <td>3772</td>\n",
       "    </tr>\n",
       "    <tr>\n",
       "      <th>unique</th>\n",
       "      <td>94</td>\n",
       "      <td>3</td>\n",
       "      <td>2</td>\n",
       "      <td>2</td>\n",
       "      <td>2</td>\n",
       "      <td>2</td>\n",
       "      <td>2</td>\n",
       "      <td>2</td>\n",
       "      <td>2</td>\n",
       "      <td>2</td>\n",
       "      <td>...</td>\n",
       "      <td>2</td>\n",
       "      <td>242</td>\n",
       "      <td>2</td>\n",
       "      <td>147</td>\n",
       "      <td>2</td>\n",
       "      <td>235</td>\n",
       "      <td>1</td>\n",
       "      <td>1</td>\n",
       "      <td>5</td>\n",
       "      <td>4</td>\n",
       "    </tr>\n",
       "    <tr>\n",
       "      <th>top</th>\n",
       "      <td>59</td>\n",
       "      <td>F</td>\n",
       "      <td>f</td>\n",
       "      <td>f</td>\n",
       "      <td>f</td>\n",
       "      <td>f</td>\n",
       "      <td>f</td>\n",
       "      <td>f</td>\n",
       "      <td>f</td>\n",
       "      <td>f</td>\n",
       "      <td>...</td>\n",
       "      <td>t</td>\n",
       "      <td>?</td>\n",
       "      <td>t</td>\n",
       "      <td>?</td>\n",
       "      <td>t</td>\n",
       "      <td>?</td>\n",
       "      <td>f</td>\n",
       "      <td>?</td>\n",
       "      <td>other</td>\n",
       "      <td>negative</td>\n",
       "    </tr>\n",
       "    <tr>\n",
       "      <th>freq</th>\n",
       "      <td>95</td>\n",
       "      <td>2480</td>\n",
       "      <td>3308</td>\n",
       "      <td>3722</td>\n",
       "      <td>3729</td>\n",
       "      <td>3625</td>\n",
       "      <td>3719</td>\n",
       "      <td>3719</td>\n",
       "      <td>3713</td>\n",
       "      <td>3538</td>\n",
       "      <td>...</td>\n",
       "      <td>3541</td>\n",
       "      <td>231</td>\n",
       "      <td>3385</td>\n",
       "      <td>387</td>\n",
       "      <td>3387</td>\n",
       "      <td>385</td>\n",
       "      <td>3772</td>\n",
       "      <td>3772</td>\n",
       "      <td>2201</td>\n",
       "      <td>3481</td>\n",
       "    </tr>\n",
       "  </tbody>\n",
       "</table>\n",
       "<p>4 rows × 30 columns</p>\n",
       "</div>"
      ],
      "text/plain": [
       "         age   sex on_thyroxine query_on_thyroxine on_antithyroid_medication  \\\n",
       "count   3772  3772         3772               3772                      3772   \n",
       "unique    94     3            2                  2                         2   \n",
       "top       59     F            f                  f                         f   \n",
       "freq      95  2480         3308               3722                      3729   \n",
       "\n",
       "        sick pregnant thyroid_surgery I131_treatment query_hypothyroid  ...  \\\n",
       "count   3772     3772            3772           3772              3772  ...   \n",
       "unique     2        2               2              2                 2  ...   \n",
       "top        f        f               f              f                 f  ...   \n",
       "freq    3625     3719            3719           3713              3538  ...   \n",
       "\n",
       "       TT4_measured   TT4 T4U_measured   T4U FTI_measured   FTI TBG_measured  \\\n",
       "count          3772  3772         3772  3772         3772  3772         3772   \n",
       "unique            2   242            2   147            2   235            1   \n",
       "top               t     ?            t     ?            t     ?            f   \n",
       "freq           3541   231         3385   387         3387   385         3772   \n",
       "\n",
       "         TBG referral_source     Class  \n",
       "count   3772            3772      3772  \n",
       "unique     1               5         4  \n",
       "top        ?           other  negative  \n",
       "freq    3772            2201      3481  \n",
       "\n",
       "[4 rows x 30 columns]"
      ]
     },
     "execution_count": 6,
     "metadata": {},
     "output_type": "execute_result"
    }
   ],
   "source": [
    "dataset.describe()"
   ]
  },
  {
   "cell_type": "markdown",
   "metadata": {
    "id": "g783shW5kzGx"
   },
   "source": [
    "The .info function gives the user number of non null values and datatypes present in the dataset"
   ]
  },
  {
   "cell_type": "code",
   "execution_count": 7,
   "metadata": {
    "colab": {
     "base_uri": "https://localhost:8080/"
    },
    "id": "nuNaJNjg02EV",
    "outputId": "1dad069b-635c-4a28-b224-ba75e0a901c8"
   },
   "outputs": [
    {
     "name": "stdout",
     "output_type": "stream",
     "text": [
      "<class 'pandas.core.frame.DataFrame'>\n",
      "RangeIndex: 3772 entries, 0 to 3771\n",
      "Data columns (total 30 columns):\n",
      " #   Column                     Non-Null Count  Dtype \n",
      "---  ------                     --------------  ----- \n",
      " 0   age                        3772 non-null   object\n",
      " 1   sex                        3772 non-null   object\n",
      " 2   on_thyroxine               3772 non-null   object\n",
      " 3   query_on_thyroxine         3772 non-null   object\n",
      " 4   on_antithyroid_medication  3772 non-null   object\n",
      " 5   sick                       3772 non-null   object\n",
      " 6   pregnant                   3772 non-null   object\n",
      " 7   thyroid_surgery            3772 non-null   object\n",
      " 8   I131_treatment             3772 non-null   object\n",
      " 9   query_hypothyroid          3772 non-null   object\n",
      " 10  query_hyperthyroid         3772 non-null   object\n",
      " 11  lithium                    3772 non-null   object\n",
      " 12  goitre                     3772 non-null   object\n",
      " 13  tumor                      3772 non-null   object\n",
      " 14  hypopituitary              3772 non-null   object\n",
      " 15  psych                      3772 non-null   object\n",
      " 16  TSH_measured               3772 non-null   object\n",
      " 17  TSH                        3772 non-null   object\n",
      " 18  T3_measured                3772 non-null   object\n",
      " 19  T3                         3772 non-null   object\n",
      " 20  TT4_measured               3772 non-null   object\n",
      " 21  TT4                        3772 non-null   object\n",
      " 22  T4U_measured               3772 non-null   object\n",
      " 23  T4U                        3772 non-null   object\n",
      " 24  FTI_measured               3772 non-null   object\n",
      " 25  FTI                        3772 non-null   object\n",
      " 26  TBG_measured               3772 non-null   object\n",
      " 27  TBG                        3772 non-null   object\n",
      " 28  referral_source            3772 non-null   object\n",
      " 29  Class                      3772 non-null   object\n",
      "dtypes: object(30)\n",
      "memory usage: 884.2+ KB\n"
     ]
    }
   ],
   "source": [
    "dataset.info()"
   ]
  },
  {
   "cell_type": "markdown",
   "metadata": {
    "id": "0puPvxB15Fan"
   },
   "source": [
    "Even though the data set seemingly has no missing values,one will find that in place of numpy nan it consists of \"?\" displaying missing values"
   ]
  },
  {
   "cell_type": "markdown",
   "metadata": {
    "id": "6iPWt5qFlZcM"
   },
   "source": [
    "Therefore in order to find the number of missing values in the dataset we count the number of \"?\" present in each column"
   ]
  },
  {
   "cell_type": "code",
   "execution_count": 8,
   "metadata": {
    "colab": {
     "base_uri": "https://localhost:8080/"
    },
    "id": "1G4QvQSB4-18",
    "outputId": "f7a94452-afae-45b7-8f7c-8e5a1595a605"
   },
   "outputs": [
    {
     "name": "stdout",
     "output_type": "stream",
     "text": [
      "age 1\n",
      "sex 150\n",
      "TSH 369\n",
      "T3 769\n",
      "TT4 231\n",
      "T4U 387\n",
      "FTI 385\n",
      "TBG 3772\n"
     ]
    }
   ],
   "source": [
    "#columns that contain ? with their counts\n",
    "for column in dataset.columns:\n",
    "    count = dataset[column][dataset[column]=='?'].count()\n",
    "    if count!=0:\n",
    "        print(column, dataset[column][dataset[column]=='?'].count())\n",
    "    "
   ]
  },
  {
   "cell_type": "markdown",
   "metadata": {
    "id": "Addi9y8AnM2o"
   },
   "source": [
    "# 2.) Missing Values\n",
    "\n",
    "\n",
    "> In this section we will be managing missing values\n",
    "\n"
   ]
  },
  {
   "cell_type": "markdown",
   "metadata": {
    "id": "z30ZvLtUKG_g"
   },
   "source": [
    "We can see that for the column 'TBG' all values are missing. Hence we shall drop this column as it is of no use to us."
   ]
  },
  {
   "cell_type": "code",
   "execution_count": 9,
   "metadata": {
    "id": "MJ11jzT7KNSx"
   },
   "outputs": [],
   "source": [
    "dataset = dataset.drop(['TBG'],axis =1)"
   ]
  },
  {
   "cell_type": "markdown",
   "metadata": {
    "id": "zEPYZjAKKqmX"
   },
   "source": [
    "Given that there exist columns which contain only true or false values indicating whether the next column has a value or a \"?\",we will drop such columns as we will handle such values later "
   ]
  },
  {
   "cell_type": "code",
   "execution_count": 10,
   "metadata": {
    "id": "cLXkO8HcK-7D"
   },
   "outputs": [],
   "source": [
    "dataset = dataset.drop(['TSH_measured','T3_measured','TT4_measured','T4U_measured','FTI_measured','TBG_measured'],axis =1)"
   ]
  },
  {
   "cell_type": "markdown",
   "metadata": {
    "id": "s5clJLGTmWEx"
   },
   "source": [
    "We now replace all \"?\" values with NumPy NAN"
   ]
  },
  {
   "cell_type": "code",
   "execution_count": 11,
   "metadata": {
    "id": "5OJx2WgKLhQW"
   },
   "outputs": [],
   "source": [
    "#replacing '?' with numpy nan\n",
    "dataset.replace('?', np.nan, inplace=True)"
   ]
  },
  {
   "cell_type": "markdown",
   "metadata": {
    "id": "9QQZOiA5mhRW"
   },
   "source": [
    "To verify if all \"?\" values have been converted to NumPy NAN we now count the number of values"
   ]
  },
  {
   "cell_type": "code",
   "execution_count": 12,
   "metadata": {
    "colab": {
     "base_uri": "https://localhost:8080/"
    },
    "id": "YD9j7KMqMAY5",
    "outputId": "b98b2efd-8ec5-4915-cfb2-acbcd12ee3ca"
   },
   "outputs": [
    {
     "name": "stdout",
     "output_type": "stream",
     "text": [
      "age 0\n",
      "sex 0\n",
      "on_thyroxine 0\n",
      "query_on_thyroxine 0\n",
      "on_antithyroid_medication 0\n",
      "sick 0\n",
      "pregnant 0\n",
      "thyroid_surgery 0\n",
      "I131_treatment 0\n",
      "query_hypothyroid 0\n",
      "query_hyperthyroid 0\n",
      "lithium 0\n",
      "goitre 0\n",
      "tumor 0\n",
      "hypopituitary 0\n",
      "psych 0\n",
      "TSH 0\n",
      "T3 0\n",
      "TT4 0\n",
      "T4U 0\n",
      "FTI 0\n",
      "referral_source 0\n",
      "Class 0\n"
     ]
    }
   ],
   "source": [
    "#checking whether all the '?' values were replaced correctly \n",
    "for column in dataset.columns:\n",
    "    count = dataset[column][dataset[column]=='?'].count()\n",
    "    if count==0:\n",
    "        print(column, dataset[column][dataset[column]=='?'].count())"
   ]
  },
  {
   "cell_type": "markdown",
   "metadata": {
    "id": "MkMhZXa2WvFv"
   },
   "source": [
    "Now that we have converted all the \"?\" values into NAN let us count the number of NAN values in each column"
   ]
  },
  {
   "cell_type": "code",
   "execution_count": 13,
   "metadata": {
    "colab": {
     "base_uri": "https://localhost:8080/"
    },
    "id": "xwAyW-inYMa-",
    "outputId": "fdfc0b2d-1eb5-4bc5-8f3b-e814dbf4d7d7"
   },
   "outputs": [
    {
     "data": {
      "text/plain": [
       "age                            1\n",
       "sex                          150\n",
       "on_thyroxine                   0\n",
       "query_on_thyroxine             0\n",
       "on_antithyroid_medication      0\n",
       "sick                           0\n",
       "pregnant                       0\n",
       "thyroid_surgery                0\n",
       "I131_treatment                 0\n",
       "query_hypothyroid              0\n",
       "query_hyperthyroid             0\n",
       "lithium                        0\n",
       "goitre                         0\n",
       "tumor                          0\n",
       "hypopituitary                  0\n",
       "psych                          0\n",
       "TSH                          369\n",
       "T3                           769\n",
       "TT4                          231\n",
       "T4U                          387\n",
       "FTI                          385\n",
       "referral_source                0\n",
       "Class                          0\n",
       "dtype: int64"
      ]
     },
     "execution_count": 13,
     "metadata": {},
     "output_type": "execute_result"
    }
   ],
   "source": [
    "dataset.isna().sum()"
   ]
  },
  {
   "cell_type": "markdown",
   "metadata": {
    "id": "HRDuzcrccGoj"
   },
   "source": [
    "Converting categorical attributes to numerical before using imputation techniques.\n",
    "\n",
    "We can use get dummies but since most of the columns have only two distinct categories we will use mapping for them.\n",
    "\n",
    "\n",
    "> Why?  Given that there are only two categories the two columns formed after get dummies will both have very high correaltion since they both explain the same thing. Hence we will have to drop one of the columns,which is why we shall use mapping for such columns. For columns with more than two categories we will make use of get dummies.\n",
    "\n",
    "\n",
    " \n",
    "\n",
    "\n",
    "\n"
   ]
  },
  {
   "cell_type": "code",
   "execution_count": 14,
   "metadata": {
    "id": "-QVYcC9VcQO7"
   },
   "outputs": [],
   "source": [
    "#mapping categorical values in column:sex\n",
    "dataset['sex'] = dataset['sex'].map({'M' : 0, 'F' : 1})"
   ]
  },
  {
   "cell_type": "code",
   "execution_count": 15,
   "metadata": {
    "id": "iEpFhqDSgeWA"
   },
   "outputs": [],
   "source": [
    "#other columns have two categorical values t and f. Hence mapping them at once\n",
    "for column in dataset.columns:\n",
    "    if  len(dataset[column].unique())==2:\n",
    "        dataset[column] = dataset[column].map({'f' : 0, 't' : 1})"
   ]
  },
  {
   "cell_type": "code",
   "execution_count": 16,
   "metadata": {
    "colab": {
     "base_uri": "https://localhost:8080/"
    },
    "id": "pqNzcuJtg_oS",
    "outputId": "79a309e9-d6f3-40f1-a982-46ec83d35a84"
   },
   "outputs": [
    {
     "data": {
      "text/plain": [
       "array(['SVHC', 'other', 'SVI', 'STMW', 'SVHD'], dtype=object)"
      ]
     },
     "execution_count": 16,
     "metadata": {},
     "output_type": "execute_result"
    }
   ],
   "source": [
    "#checking unique values in referal_source column\n",
    "dataset['referral_source'].unique()"
   ]
  },
  {
   "cell_type": "code",
   "execution_count": 17,
   "metadata": {
    "id": "VpYJskw_hx6z"
   },
   "outputs": [],
   "source": [
    "#using get dummies to encode\n",
    "dataset = pd.get_dummies(dataset, columns=['referral_source'])"
   ]
  },
  {
   "cell_type": "code",
   "execution_count": 18,
   "metadata": {
    "id": "F5wAhA4Xq2VW"
   },
   "outputs": [],
   "source": [
    "#converting age into numeric form\n",
    "dataset['age'] = dataset['age'].apply(pd.to_numeric)"
   ]
  },
  {
   "cell_type": "markdown",
   "metadata": {
    "id": "wxeciygGh9S2"
   },
   "source": [
    "We will now map the unique values of the output column **Class** using the Label Encoder"
   ]
  },
  {
   "cell_type": "code",
   "execution_count": 19,
   "metadata": {
    "colab": {
     "base_uri": "https://localhost:8080/"
    },
    "id": "OttgjFZHiLbV",
    "outputId": "297b6179-8b31-44d3-8a05-9bc3d76ccdf8"
   },
   "outputs": [
    {
     "data": {
      "text/plain": [
       "array(['negative', 'compensated_hypothyroid', 'primary_hypothyroid',\n",
       "       'secondary_hypothyroid'], dtype=object)"
      ]
     },
     "execution_count": 19,
     "metadata": {},
     "output_type": "execute_result"
    }
   ],
   "source": [
    "#checking unique values in Output class column\n",
    "dataset['Class'].unique()"
   ]
  },
  {
   "cell_type": "markdown",
   "metadata": {
    "id": "rXbNRTg7oi9x"
   },
   "source": [
    "A Label Encoder is used to convert labels into numeric form i.e. machine readable form,in this case the label encoder converts:\n",
    "\n",
    "\n",
    "1.   negative to 0\n",
    "2.   compensated_hypothyroid to 1\n",
    "3.   primary_hypothyroid to 2\n",
    "4.   secondary_hypothyroid to 3\n",
    "\n",
    "\n",
    "\n"
   ]
  },
  {
   "cell_type": "code",
   "execution_count": 20,
   "metadata": {
    "id": "KTXrCD_1iXiE"
   },
   "outputs": [],
   "source": [
    "#encoding\n",
    "lbEn = LabelEncoder()\n",
    "\n",
    "dataset['Class'] =lbEn.fit_transform(dataset['Class'])"
   ]
  },
  {
   "cell_type": "code",
   "execution_count": 21,
   "metadata": {
    "colab": {
     "base_uri": "https://localhost:8080/",
     "height": 377
    },
    "id": "Mt-_oWxei8dd",
    "outputId": "a16d9106-6d1a-4367-e272-a18e72df0d2b"
   },
   "outputs": [
    {
     "data": {
      "text/html": [
       "<div>\n",
       "<style scoped>\n",
       "    .dataframe tbody tr th:only-of-type {\n",
       "        vertical-align: middle;\n",
       "    }\n",
       "\n",
       "    .dataframe tbody tr th {\n",
       "        vertical-align: top;\n",
       "    }\n",
       "\n",
       "    .dataframe thead th {\n",
       "        text-align: right;\n",
       "    }\n",
       "</style>\n",
       "<table border=\"1\" class=\"dataframe\">\n",
       "  <thead>\n",
       "    <tr style=\"text-align: right;\">\n",
       "      <th></th>\n",
       "      <th>age</th>\n",
       "      <th>sex</th>\n",
       "      <th>on_thyroxine</th>\n",
       "      <th>query_on_thyroxine</th>\n",
       "      <th>on_antithyroid_medication</th>\n",
       "      <th>sick</th>\n",
       "      <th>pregnant</th>\n",
       "      <th>thyroid_surgery</th>\n",
       "      <th>I131_treatment</th>\n",
       "      <th>query_hypothyroid</th>\n",
       "      <th>...</th>\n",
       "      <th>T3</th>\n",
       "      <th>TT4</th>\n",
       "      <th>T4U</th>\n",
       "      <th>FTI</th>\n",
       "      <th>Class</th>\n",
       "      <th>referral_source_STMW</th>\n",
       "      <th>referral_source_SVHC</th>\n",
       "      <th>referral_source_SVHD</th>\n",
       "      <th>referral_source_SVI</th>\n",
       "      <th>referral_source_other</th>\n",
       "    </tr>\n",
       "  </thead>\n",
       "  <tbody>\n",
       "    <tr>\n",
       "      <th>0</th>\n",
       "      <td>41.0</td>\n",
       "      <td>1.0</td>\n",
       "      <td>0</td>\n",
       "      <td>0</td>\n",
       "      <td>0</td>\n",
       "      <td>0</td>\n",
       "      <td>0</td>\n",
       "      <td>0</td>\n",
       "      <td>0</td>\n",
       "      <td>0</td>\n",
       "      <td>...</td>\n",
       "      <td>2.5</td>\n",
       "      <td>125</td>\n",
       "      <td>1.14</td>\n",
       "      <td>109</td>\n",
       "      <td>1</td>\n",
       "      <td>0</td>\n",
       "      <td>1</td>\n",
       "      <td>0</td>\n",
       "      <td>0</td>\n",
       "      <td>0</td>\n",
       "    </tr>\n",
       "    <tr>\n",
       "      <th>1</th>\n",
       "      <td>23.0</td>\n",
       "      <td>1.0</td>\n",
       "      <td>0</td>\n",
       "      <td>0</td>\n",
       "      <td>0</td>\n",
       "      <td>0</td>\n",
       "      <td>0</td>\n",
       "      <td>0</td>\n",
       "      <td>0</td>\n",
       "      <td>0</td>\n",
       "      <td>...</td>\n",
       "      <td>2</td>\n",
       "      <td>102</td>\n",
       "      <td>NaN</td>\n",
       "      <td>NaN</td>\n",
       "      <td>1</td>\n",
       "      <td>0</td>\n",
       "      <td>0</td>\n",
       "      <td>0</td>\n",
       "      <td>0</td>\n",
       "      <td>1</td>\n",
       "    </tr>\n",
       "    <tr>\n",
       "      <th>2</th>\n",
       "      <td>46.0</td>\n",
       "      <td>0.0</td>\n",
       "      <td>0</td>\n",
       "      <td>0</td>\n",
       "      <td>0</td>\n",
       "      <td>0</td>\n",
       "      <td>0</td>\n",
       "      <td>0</td>\n",
       "      <td>0</td>\n",
       "      <td>0</td>\n",
       "      <td>...</td>\n",
       "      <td>NaN</td>\n",
       "      <td>109</td>\n",
       "      <td>0.91</td>\n",
       "      <td>120</td>\n",
       "      <td>1</td>\n",
       "      <td>0</td>\n",
       "      <td>0</td>\n",
       "      <td>0</td>\n",
       "      <td>0</td>\n",
       "      <td>1</td>\n",
       "    </tr>\n",
       "    <tr>\n",
       "      <th>3</th>\n",
       "      <td>70.0</td>\n",
       "      <td>1.0</td>\n",
       "      <td>1</td>\n",
       "      <td>0</td>\n",
       "      <td>0</td>\n",
       "      <td>0</td>\n",
       "      <td>0</td>\n",
       "      <td>0</td>\n",
       "      <td>0</td>\n",
       "      <td>0</td>\n",
       "      <td>...</td>\n",
       "      <td>1.9</td>\n",
       "      <td>175</td>\n",
       "      <td>NaN</td>\n",
       "      <td>NaN</td>\n",
       "      <td>1</td>\n",
       "      <td>0</td>\n",
       "      <td>0</td>\n",
       "      <td>0</td>\n",
       "      <td>0</td>\n",
       "      <td>1</td>\n",
       "    </tr>\n",
       "    <tr>\n",
       "      <th>4</th>\n",
       "      <td>70.0</td>\n",
       "      <td>1.0</td>\n",
       "      <td>0</td>\n",
       "      <td>0</td>\n",
       "      <td>0</td>\n",
       "      <td>0</td>\n",
       "      <td>0</td>\n",
       "      <td>0</td>\n",
       "      <td>0</td>\n",
       "      <td>0</td>\n",
       "      <td>...</td>\n",
       "      <td>1.2</td>\n",
       "      <td>61</td>\n",
       "      <td>0.87</td>\n",
       "      <td>70</td>\n",
       "      <td>1</td>\n",
       "      <td>0</td>\n",
       "      <td>0</td>\n",
       "      <td>0</td>\n",
       "      <td>1</td>\n",
       "      <td>0</td>\n",
       "    </tr>\n",
       "    <tr>\n",
       "      <th>5</th>\n",
       "      <td>18.0</td>\n",
       "      <td>1.0</td>\n",
       "      <td>1</td>\n",
       "      <td>0</td>\n",
       "      <td>0</td>\n",
       "      <td>0</td>\n",
       "      <td>0</td>\n",
       "      <td>0</td>\n",
       "      <td>0</td>\n",
       "      <td>0</td>\n",
       "      <td>...</td>\n",
       "      <td>NaN</td>\n",
       "      <td>183</td>\n",
       "      <td>1.3</td>\n",
       "      <td>141</td>\n",
       "      <td>1</td>\n",
       "      <td>0</td>\n",
       "      <td>0</td>\n",
       "      <td>0</td>\n",
       "      <td>0</td>\n",
       "      <td>1</td>\n",
       "    </tr>\n",
       "    <tr>\n",
       "      <th>6</th>\n",
       "      <td>59.0</td>\n",
       "      <td>1.0</td>\n",
       "      <td>0</td>\n",
       "      <td>0</td>\n",
       "      <td>0</td>\n",
       "      <td>0</td>\n",
       "      <td>0</td>\n",
       "      <td>0</td>\n",
       "      <td>0</td>\n",
       "      <td>0</td>\n",
       "      <td>...</td>\n",
       "      <td>NaN</td>\n",
       "      <td>72</td>\n",
       "      <td>0.92</td>\n",
       "      <td>78</td>\n",
       "      <td>1</td>\n",
       "      <td>0</td>\n",
       "      <td>0</td>\n",
       "      <td>0</td>\n",
       "      <td>0</td>\n",
       "      <td>1</td>\n",
       "    </tr>\n",
       "    <tr>\n",
       "      <th>7</th>\n",
       "      <td>80.0</td>\n",
       "      <td>1.0</td>\n",
       "      <td>0</td>\n",
       "      <td>0</td>\n",
       "      <td>0</td>\n",
       "      <td>0</td>\n",
       "      <td>0</td>\n",
       "      <td>0</td>\n",
       "      <td>0</td>\n",
       "      <td>0</td>\n",
       "      <td>...</td>\n",
       "      <td>0.6</td>\n",
       "      <td>80</td>\n",
       "      <td>0.7</td>\n",
       "      <td>115</td>\n",
       "      <td>1</td>\n",
       "      <td>0</td>\n",
       "      <td>0</td>\n",
       "      <td>0</td>\n",
       "      <td>1</td>\n",
       "      <td>0</td>\n",
       "    </tr>\n",
       "    <tr>\n",
       "      <th>8</th>\n",
       "      <td>66.0</td>\n",
       "      <td>1.0</td>\n",
       "      <td>0</td>\n",
       "      <td>0</td>\n",
       "      <td>0</td>\n",
       "      <td>0</td>\n",
       "      <td>0</td>\n",
       "      <td>0</td>\n",
       "      <td>0</td>\n",
       "      <td>0</td>\n",
       "      <td>...</td>\n",
       "      <td>2.2</td>\n",
       "      <td>123</td>\n",
       "      <td>0.93</td>\n",
       "      <td>132</td>\n",
       "      <td>1</td>\n",
       "      <td>0</td>\n",
       "      <td>0</td>\n",
       "      <td>0</td>\n",
       "      <td>1</td>\n",
       "      <td>0</td>\n",
       "    </tr>\n",
       "    <tr>\n",
       "      <th>9</th>\n",
       "      <td>68.0</td>\n",
       "      <td>0.0</td>\n",
       "      <td>0</td>\n",
       "      <td>0</td>\n",
       "      <td>0</td>\n",
       "      <td>0</td>\n",
       "      <td>0</td>\n",
       "      <td>0</td>\n",
       "      <td>0</td>\n",
       "      <td>0</td>\n",
       "      <td>...</td>\n",
       "      <td>1.6</td>\n",
       "      <td>83</td>\n",
       "      <td>0.89</td>\n",
       "      <td>93</td>\n",
       "      <td>1</td>\n",
       "      <td>0</td>\n",
       "      <td>0</td>\n",
       "      <td>0</td>\n",
       "      <td>1</td>\n",
       "      <td>0</td>\n",
       "    </tr>\n",
       "  </tbody>\n",
       "</table>\n",
       "<p>10 rows × 27 columns</p>\n",
       "</div>"
      ],
      "text/plain": [
       "    age  sex  on_thyroxine  query_on_thyroxine  on_antithyroid_medication  \\\n",
       "0  41.0  1.0             0                   0                          0   \n",
       "1  23.0  1.0             0                   0                          0   \n",
       "2  46.0  0.0             0                   0                          0   \n",
       "3  70.0  1.0             1                   0                          0   \n",
       "4  70.0  1.0             0                   0                          0   \n",
       "5  18.0  1.0             1                   0                          0   \n",
       "6  59.0  1.0             0                   0                          0   \n",
       "7  80.0  1.0             0                   0                          0   \n",
       "8  66.0  1.0             0                   0                          0   \n",
       "9  68.0  0.0             0                   0                          0   \n",
       "\n",
       "   sick  pregnant  thyroid_surgery  I131_treatment  query_hypothyroid  ...  \\\n",
       "0     0         0                0               0                  0  ...   \n",
       "1     0         0                0               0                  0  ...   \n",
       "2     0         0                0               0                  0  ...   \n",
       "3     0         0                0               0                  0  ...   \n",
       "4     0         0                0               0                  0  ...   \n",
       "5     0         0                0               0                  0  ...   \n",
       "6     0         0                0               0                  0  ...   \n",
       "7     0         0                0               0                  0  ...   \n",
       "8     0         0                0               0                  0  ...   \n",
       "9     0         0                0               0                  0  ...   \n",
       "\n",
       "    T3  TT4   T4U  FTI  Class  referral_source_STMW referral_source_SVHC  \\\n",
       "0  2.5  125  1.14  109      1                     0                    1   \n",
       "1    2  102   NaN  NaN      1                     0                    0   \n",
       "2  NaN  109  0.91  120      1                     0                    0   \n",
       "3  1.9  175   NaN  NaN      1                     0                    0   \n",
       "4  1.2   61  0.87   70      1                     0                    0   \n",
       "5  NaN  183   1.3  141      1                     0                    0   \n",
       "6  NaN   72  0.92   78      1                     0                    0   \n",
       "7  0.6   80   0.7  115      1                     0                    0   \n",
       "8  2.2  123  0.93  132      1                     0                    0   \n",
       "9  1.6   83  0.89   93      1                     0                    0   \n",
       "\n",
       "  referral_source_SVHD referral_source_SVI referral_source_other  \n",
       "0                    0                   0                     0  \n",
       "1                    0                   0                     1  \n",
       "2                    0                   0                     1  \n",
       "3                    0                   0                     1  \n",
       "4                    0                   1                     0  \n",
       "5                    0                   0                     1  \n",
       "6                    0                   0                     1  \n",
       "7                    0                   1                     0  \n",
       "8                    0                   1                     0  \n",
       "9                    0                   1                     0  \n",
       "\n",
       "[10 rows x 27 columns]"
      ]
     },
     "execution_count": 21,
     "metadata": {},
     "output_type": "execute_result"
    }
   ],
   "source": [
    "dataset.head(10)"
   ]
  },
  {
   "cell_type": "markdown",
   "metadata": {
    "id": "AJrqRZGApmiw"
   },
   "source": [
    "Now that we have converted all categorical values into numerical values when we use the .describe() function we are provided with the mean, standard deviation, min,max values etc"
   ]
  },
  {
   "cell_type": "code",
   "execution_count": 22,
   "metadata": {
    "colab": {
     "base_uri": "https://localhost:8080/"
    },
    "id": "Q5iilE2kjSXT",
    "outputId": "867936d2-e7c9-4b40-97e6-df8dfbd1682e"
   },
   "outputs": [
    {
     "name": "stdout",
     "output_type": "stream",
     "text": [
      "                age          sex  on_thyroxine  query_on_thyroxine  \\\n",
      "count   3771.000000  3622.000000   3772.000000         3772.000000   \n",
      "unique          NaN          NaN           NaN                 NaN   \n",
      "top             NaN          NaN           NaN                 NaN   \n",
      "freq            NaN          NaN           NaN                 NaN   \n",
      "mean      51.735879     0.684705      0.123012            0.013256   \n",
      "std       20.084958     0.464698      0.328494            0.114382   \n",
      "min        1.000000     0.000000      0.000000            0.000000   \n",
      "25%       36.000000     0.000000      0.000000            0.000000   \n",
      "50%       54.000000     1.000000      0.000000            0.000000   \n",
      "75%       67.000000     1.000000      0.000000            0.000000   \n",
      "max      455.000000     1.000000      1.000000            1.000000   \n",
      "\n",
      "        on_antithyroid_medication         sick     pregnant  thyroid_surgery  \\\n",
      "count                 3772.000000  3772.000000  3772.000000      3772.000000   \n",
      "unique                        NaN          NaN          NaN              NaN   \n",
      "top                           NaN          NaN          NaN              NaN   \n",
      "freq                          NaN          NaN          NaN              NaN   \n",
      "mean                     0.011400     0.038971     0.014051         0.014051   \n",
      "std                      0.106174     0.193552     0.117716         0.117716   \n",
      "min                      0.000000     0.000000     0.000000         0.000000   \n",
      "25%                      0.000000     0.000000     0.000000         0.000000   \n",
      "50%                      0.000000     0.000000     0.000000         0.000000   \n",
      "75%                      0.000000     0.000000     0.000000         0.000000   \n",
      "max                      1.000000     1.000000     1.000000         1.000000   \n",
      "\n",
      "        I131_treatment  query_hypothyroid  ...    T3   TT4   T4U   FTI  \\\n",
      "count      3772.000000        3772.000000  ...  3003  3541  3385  3387   \n",
      "unique             NaN                NaN  ...    69   241   146   234   \n",
      "top                NaN                NaN  ...     2   101  0.99   100   \n",
      "freq               NaN                NaN  ...   238    71    95    73   \n",
      "mean          0.015642           0.062036  ...   NaN   NaN   NaN   NaN   \n",
      "std           0.124101           0.241253  ...   NaN   NaN   NaN   NaN   \n",
      "min           0.000000           0.000000  ...   NaN   NaN   NaN   NaN   \n",
      "25%           0.000000           0.000000  ...   NaN   NaN   NaN   NaN   \n",
      "50%           0.000000           0.000000  ...   NaN   NaN   NaN   NaN   \n",
      "75%           0.000000           0.000000  ...   NaN   NaN   NaN   NaN   \n",
      "max           1.000000           1.000000  ...   NaN   NaN   NaN   NaN   \n",
      "\n",
      "              Class  referral_source_STMW referral_source_SVHC  \\\n",
      "count   3772.000000           3772.000000          3772.000000   \n",
      "unique          NaN                   NaN                  NaN   \n",
      "top             NaN                   NaN                  NaN   \n",
      "freq            NaN                   NaN                  NaN   \n",
      "mean       0.974814              0.029692             0.102333   \n",
      "std        0.279508              0.169760             0.303126   \n",
      "min        0.000000              0.000000             0.000000   \n",
      "25%        1.000000              0.000000             0.000000   \n",
      "50%        1.000000              0.000000             0.000000   \n",
      "75%        1.000000              0.000000             0.000000   \n",
      "max        3.000000              1.000000             1.000000   \n",
      "\n",
      "       referral_source_SVHD referral_source_SVI referral_source_other  \n",
      "count           3772.000000         3772.000000           3772.000000  \n",
      "unique                  NaN                 NaN                   NaN  \n",
      "top                     NaN                 NaN                   NaN  \n",
      "freq                    NaN                 NaN                   NaN  \n",
      "mean               0.010339            0.274125              0.583510  \n",
      "std                0.101169            0.446131              0.493042  \n",
      "min                0.000000            0.000000              0.000000  \n",
      "25%                0.000000            0.000000              0.000000  \n",
      "50%                0.000000            0.000000              1.000000  \n",
      "75%                0.000000            1.000000              1.000000  \n",
      "max                1.000000            1.000000              1.000000  \n",
      "\n",
      "[11 rows x 27 columns]\n"
     ]
    }
   ],
   "source": [
    "print(dataset.describe(include='all'))"
   ]
  },
  {
   "cell_type": "markdown",
   "metadata": {
    "id": "aDq-LXRwvDOu"
   },
   "source": [
    "Now that we have encoded categorical values we shall now impute missing values using KNN\n",
    "\n",
    "> K-Nearest Neighbours (kNN) identifies the neighboring points through a measure of distance,the missing values are then estimated using completed values of neighboring observations.\n",
    "\n"
   ]
  },
  {
   "cell_type": "code",
   "execution_count": 23,
   "metadata": {
    "id": "GCUZSehqwEWj"
   },
   "outputs": [],
   "source": [
    "imputer=KNNImputer(n_neighbors=3, weights='uniform',missing_values=np.nan)\n",
    "new_array=imputer.fit_transform(dataset)\n",
    "new_dataset=pd.DataFrame(data=np.round(new_array), columns=dataset.columns)"
   ]
  },
  {
   "cell_type": "code",
   "execution_count": 24,
   "metadata": {
    "colab": {
     "base_uri": "https://localhost:8080/",
     "height": 377
    },
    "id": "jOhaQ0quzE9b",
    "outputId": "2f80e5fb-76d5-4d64-8953-768e307d0a59"
   },
   "outputs": [
    {
     "data": {
      "text/html": [
       "<div>\n",
       "<style scoped>\n",
       "    .dataframe tbody tr th:only-of-type {\n",
       "        vertical-align: middle;\n",
       "    }\n",
       "\n",
       "    .dataframe tbody tr th {\n",
       "        vertical-align: top;\n",
       "    }\n",
       "\n",
       "    .dataframe thead th {\n",
       "        text-align: right;\n",
       "    }\n",
       "</style>\n",
       "<table border=\"1\" class=\"dataframe\">\n",
       "  <thead>\n",
       "    <tr style=\"text-align: right;\">\n",
       "      <th></th>\n",
       "      <th>age</th>\n",
       "      <th>sex</th>\n",
       "      <th>on_thyroxine</th>\n",
       "      <th>query_on_thyroxine</th>\n",
       "      <th>on_antithyroid_medication</th>\n",
       "      <th>sick</th>\n",
       "      <th>pregnant</th>\n",
       "      <th>thyroid_surgery</th>\n",
       "      <th>I131_treatment</th>\n",
       "      <th>query_hypothyroid</th>\n",
       "      <th>...</th>\n",
       "      <th>T3</th>\n",
       "      <th>TT4</th>\n",
       "      <th>T4U</th>\n",
       "      <th>FTI</th>\n",
       "      <th>Class</th>\n",
       "      <th>referral_source_STMW</th>\n",
       "      <th>referral_source_SVHC</th>\n",
       "      <th>referral_source_SVHD</th>\n",
       "      <th>referral_source_SVI</th>\n",
       "      <th>referral_source_other</th>\n",
       "    </tr>\n",
       "  </thead>\n",
       "  <tbody>\n",
       "    <tr>\n",
       "      <th>0</th>\n",
       "      <td>41.0</td>\n",
       "      <td>1.0</td>\n",
       "      <td>0.0</td>\n",
       "      <td>0.0</td>\n",
       "      <td>0.0</td>\n",
       "      <td>0.0</td>\n",
       "      <td>0.0</td>\n",
       "      <td>0.0</td>\n",
       "      <td>0.0</td>\n",
       "      <td>0.0</td>\n",
       "      <td>...</td>\n",
       "      <td>2.0</td>\n",
       "      <td>125.0</td>\n",
       "      <td>1.0</td>\n",
       "      <td>109.0</td>\n",
       "      <td>1.0</td>\n",
       "      <td>0.0</td>\n",
       "      <td>1.0</td>\n",
       "      <td>0.0</td>\n",
       "      <td>0.0</td>\n",
       "      <td>0.0</td>\n",
       "    </tr>\n",
       "    <tr>\n",
       "      <th>1</th>\n",
       "      <td>23.0</td>\n",
       "      <td>1.0</td>\n",
       "      <td>0.0</td>\n",
       "      <td>0.0</td>\n",
       "      <td>0.0</td>\n",
       "      <td>0.0</td>\n",
       "      <td>0.0</td>\n",
       "      <td>0.0</td>\n",
       "      <td>0.0</td>\n",
       "      <td>0.0</td>\n",
       "      <td>...</td>\n",
       "      <td>2.0</td>\n",
       "      <td>102.0</td>\n",
       "      <td>1.0</td>\n",
       "      <td>108.0</td>\n",
       "      <td>1.0</td>\n",
       "      <td>0.0</td>\n",
       "      <td>0.0</td>\n",
       "      <td>0.0</td>\n",
       "      <td>0.0</td>\n",
       "      <td>1.0</td>\n",
       "    </tr>\n",
       "    <tr>\n",
       "      <th>2</th>\n",
       "      <td>46.0</td>\n",
       "      <td>0.0</td>\n",
       "      <td>0.0</td>\n",
       "      <td>0.0</td>\n",
       "      <td>0.0</td>\n",
       "      <td>0.0</td>\n",
       "      <td>0.0</td>\n",
       "      <td>0.0</td>\n",
       "      <td>0.0</td>\n",
       "      <td>0.0</td>\n",
       "      <td>...</td>\n",
       "      <td>2.0</td>\n",
       "      <td>109.0</td>\n",
       "      <td>1.0</td>\n",
       "      <td>120.0</td>\n",
       "      <td>1.0</td>\n",
       "      <td>0.0</td>\n",
       "      <td>0.0</td>\n",
       "      <td>0.0</td>\n",
       "      <td>0.0</td>\n",
       "      <td>1.0</td>\n",
       "    </tr>\n",
       "    <tr>\n",
       "      <th>3</th>\n",
       "      <td>70.0</td>\n",
       "      <td>1.0</td>\n",
       "      <td>1.0</td>\n",
       "      <td>0.0</td>\n",
       "      <td>0.0</td>\n",
       "      <td>0.0</td>\n",
       "      <td>0.0</td>\n",
       "      <td>0.0</td>\n",
       "      <td>0.0</td>\n",
       "      <td>0.0</td>\n",
       "      <td>...</td>\n",
       "      <td>2.0</td>\n",
       "      <td>175.0</td>\n",
       "      <td>1.0</td>\n",
       "      <td>177.0</td>\n",
       "      <td>1.0</td>\n",
       "      <td>0.0</td>\n",
       "      <td>0.0</td>\n",
       "      <td>0.0</td>\n",
       "      <td>0.0</td>\n",
       "      <td>1.0</td>\n",
       "    </tr>\n",
       "    <tr>\n",
       "      <th>4</th>\n",
       "      <td>70.0</td>\n",
       "      <td>1.0</td>\n",
       "      <td>0.0</td>\n",
       "      <td>0.0</td>\n",
       "      <td>0.0</td>\n",
       "      <td>0.0</td>\n",
       "      <td>0.0</td>\n",
       "      <td>0.0</td>\n",
       "      <td>0.0</td>\n",
       "      <td>0.0</td>\n",
       "      <td>...</td>\n",
       "      <td>1.0</td>\n",
       "      <td>61.0</td>\n",
       "      <td>1.0</td>\n",
       "      <td>70.0</td>\n",
       "      <td>1.0</td>\n",
       "      <td>0.0</td>\n",
       "      <td>0.0</td>\n",
       "      <td>0.0</td>\n",
       "      <td>1.0</td>\n",
       "      <td>0.0</td>\n",
       "    </tr>\n",
       "    <tr>\n",
       "      <th>5</th>\n",
       "      <td>18.0</td>\n",
       "      <td>1.0</td>\n",
       "      <td>1.0</td>\n",
       "      <td>0.0</td>\n",
       "      <td>0.0</td>\n",
       "      <td>0.0</td>\n",
       "      <td>0.0</td>\n",
       "      <td>0.0</td>\n",
       "      <td>0.0</td>\n",
       "      <td>0.0</td>\n",
       "      <td>...</td>\n",
       "      <td>2.0</td>\n",
       "      <td>183.0</td>\n",
       "      <td>1.0</td>\n",
       "      <td>141.0</td>\n",
       "      <td>1.0</td>\n",
       "      <td>0.0</td>\n",
       "      <td>0.0</td>\n",
       "      <td>0.0</td>\n",
       "      <td>0.0</td>\n",
       "      <td>1.0</td>\n",
       "    </tr>\n",
       "    <tr>\n",
       "      <th>6</th>\n",
       "      <td>59.0</td>\n",
       "      <td>1.0</td>\n",
       "      <td>0.0</td>\n",
       "      <td>0.0</td>\n",
       "      <td>0.0</td>\n",
       "      <td>0.0</td>\n",
       "      <td>0.0</td>\n",
       "      <td>0.0</td>\n",
       "      <td>0.0</td>\n",
       "      <td>0.0</td>\n",
       "      <td>...</td>\n",
       "      <td>2.0</td>\n",
       "      <td>72.0</td>\n",
       "      <td>1.0</td>\n",
       "      <td>78.0</td>\n",
       "      <td>1.0</td>\n",
       "      <td>0.0</td>\n",
       "      <td>0.0</td>\n",
       "      <td>0.0</td>\n",
       "      <td>0.0</td>\n",
       "      <td>1.0</td>\n",
       "    </tr>\n",
       "    <tr>\n",
       "      <th>7</th>\n",
       "      <td>80.0</td>\n",
       "      <td>1.0</td>\n",
       "      <td>0.0</td>\n",
       "      <td>0.0</td>\n",
       "      <td>0.0</td>\n",
       "      <td>0.0</td>\n",
       "      <td>0.0</td>\n",
       "      <td>0.0</td>\n",
       "      <td>0.0</td>\n",
       "      <td>0.0</td>\n",
       "      <td>...</td>\n",
       "      <td>1.0</td>\n",
       "      <td>80.0</td>\n",
       "      <td>1.0</td>\n",
       "      <td>115.0</td>\n",
       "      <td>1.0</td>\n",
       "      <td>0.0</td>\n",
       "      <td>0.0</td>\n",
       "      <td>0.0</td>\n",
       "      <td>1.0</td>\n",
       "      <td>0.0</td>\n",
       "    </tr>\n",
       "    <tr>\n",
       "      <th>8</th>\n",
       "      <td>66.0</td>\n",
       "      <td>1.0</td>\n",
       "      <td>0.0</td>\n",
       "      <td>0.0</td>\n",
       "      <td>0.0</td>\n",
       "      <td>0.0</td>\n",
       "      <td>0.0</td>\n",
       "      <td>0.0</td>\n",
       "      <td>0.0</td>\n",
       "      <td>0.0</td>\n",
       "      <td>...</td>\n",
       "      <td>2.0</td>\n",
       "      <td>123.0</td>\n",
       "      <td>1.0</td>\n",
       "      <td>132.0</td>\n",
       "      <td>1.0</td>\n",
       "      <td>0.0</td>\n",
       "      <td>0.0</td>\n",
       "      <td>0.0</td>\n",
       "      <td>1.0</td>\n",
       "      <td>0.0</td>\n",
       "    </tr>\n",
       "    <tr>\n",
       "      <th>9</th>\n",
       "      <td>68.0</td>\n",
       "      <td>0.0</td>\n",
       "      <td>0.0</td>\n",
       "      <td>0.0</td>\n",
       "      <td>0.0</td>\n",
       "      <td>0.0</td>\n",
       "      <td>0.0</td>\n",
       "      <td>0.0</td>\n",
       "      <td>0.0</td>\n",
       "      <td>0.0</td>\n",
       "      <td>...</td>\n",
       "      <td>2.0</td>\n",
       "      <td>83.0</td>\n",
       "      <td>1.0</td>\n",
       "      <td>93.0</td>\n",
       "      <td>1.0</td>\n",
       "      <td>0.0</td>\n",
       "      <td>0.0</td>\n",
       "      <td>0.0</td>\n",
       "      <td>1.0</td>\n",
       "      <td>0.0</td>\n",
       "    </tr>\n",
       "  </tbody>\n",
       "</table>\n",
       "<p>10 rows × 27 columns</p>\n",
       "</div>"
      ],
      "text/plain": [
       "    age  sex  on_thyroxine  query_on_thyroxine  on_antithyroid_medication  \\\n",
       "0  41.0  1.0           0.0                 0.0                        0.0   \n",
       "1  23.0  1.0           0.0                 0.0                        0.0   \n",
       "2  46.0  0.0           0.0                 0.0                        0.0   \n",
       "3  70.0  1.0           1.0                 0.0                        0.0   \n",
       "4  70.0  1.0           0.0                 0.0                        0.0   \n",
       "5  18.0  1.0           1.0                 0.0                        0.0   \n",
       "6  59.0  1.0           0.0                 0.0                        0.0   \n",
       "7  80.0  1.0           0.0                 0.0                        0.0   \n",
       "8  66.0  1.0           0.0                 0.0                        0.0   \n",
       "9  68.0  0.0           0.0                 0.0                        0.0   \n",
       "\n",
       "   sick  pregnant  thyroid_surgery  I131_treatment  query_hypothyroid  ...  \\\n",
       "0   0.0       0.0              0.0             0.0                0.0  ...   \n",
       "1   0.0       0.0              0.0             0.0                0.0  ...   \n",
       "2   0.0       0.0              0.0             0.0                0.0  ...   \n",
       "3   0.0       0.0              0.0             0.0                0.0  ...   \n",
       "4   0.0       0.0              0.0             0.0                0.0  ...   \n",
       "5   0.0       0.0              0.0             0.0                0.0  ...   \n",
       "6   0.0       0.0              0.0             0.0                0.0  ...   \n",
       "7   0.0       0.0              0.0             0.0                0.0  ...   \n",
       "8   0.0       0.0              0.0             0.0                0.0  ...   \n",
       "9   0.0       0.0              0.0             0.0                0.0  ...   \n",
       "\n",
       "    T3    TT4  T4U    FTI  Class  referral_source_STMW  referral_source_SVHC  \\\n",
       "0  2.0  125.0  1.0  109.0    1.0                   0.0                   1.0   \n",
       "1  2.0  102.0  1.0  108.0    1.0                   0.0                   0.0   \n",
       "2  2.0  109.0  1.0  120.0    1.0                   0.0                   0.0   \n",
       "3  2.0  175.0  1.0  177.0    1.0                   0.0                   0.0   \n",
       "4  1.0   61.0  1.0   70.0    1.0                   0.0                   0.0   \n",
       "5  2.0  183.0  1.0  141.0    1.0                   0.0                   0.0   \n",
       "6  2.0   72.0  1.0   78.0    1.0                   0.0                   0.0   \n",
       "7  1.0   80.0  1.0  115.0    1.0                   0.0                   0.0   \n",
       "8  2.0  123.0  1.0  132.0    1.0                   0.0                   0.0   \n",
       "9  2.0   83.0  1.0   93.0    1.0                   0.0                   0.0   \n",
       "\n",
       "   referral_source_SVHD  referral_source_SVI  referral_source_other  \n",
       "0                   0.0                  0.0                    0.0  \n",
       "1                   0.0                  0.0                    1.0  \n",
       "2                   0.0                  0.0                    1.0  \n",
       "3                   0.0                  0.0                    1.0  \n",
       "4                   0.0                  1.0                    0.0  \n",
       "5                   0.0                  0.0                    1.0  \n",
       "6                   0.0                  0.0                    1.0  \n",
       "7                   0.0                  1.0                    0.0  \n",
       "8                   0.0                  1.0                    0.0  \n",
       "9                   0.0                  1.0                    0.0  \n",
       "\n",
       "[10 rows x 27 columns]"
      ]
     },
     "execution_count": 24,
     "metadata": {},
     "output_type": "execute_result"
    }
   ],
   "source": [
    "#checking if nan values were replaced\n",
    "new_dataset.head(10)"
   ]
  },
  {
   "cell_type": "code",
   "execution_count": 25,
   "metadata": {
    "colab": {
     "base_uri": "https://localhost:8080/",
     "height": 437
    },
    "id": "e2NAZa-xbC8v",
    "outputId": "b16635df-8f13-4511-be0c-9a6ac8f3b577"
   },
   "outputs": [
    {
     "data": {
      "text/html": [
       "<div>\n",
       "<style scoped>\n",
       "    .dataframe tbody tr th:only-of-type {\n",
       "        vertical-align: middle;\n",
       "    }\n",
       "\n",
       "    .dataframe tbody tr th {\n",
       "        vertical-align: top;\n",
       "    }\n",
       "\n",
       "    .dataframe thead th {\n",
       "        text-align: right;\n",
       "    }\n",
       "</style>\n",
       "<table border=\"1\" class=\"dataframe\">\n",
       "  <thead>\n",
       "    <tr style=\"text-align: right;\">\n",
       "      <th></th>\n",
       "      <th>age</th>\n",
       "      <th>sex</th>\n",
       "      <th>on_thyroxine</th>\n",
       "      <th>query_on_thyroxine</th>\n",
       "      <th>on_antithyroid_medication</th>\n",
       "      <th>sick</th>\n",
       "      <th>pregnant</th>\n",
       "      <th>thyroid_surgery</th>\n",
       "      <th>I131_treatment</th>\n",
       "      <th>query_hypothyroid</th>\n",
       "      <th>...</th>\n",
       "      <th>T3</th>\n",
       "      <th>TT4</th>\n",
       "      <th>T4U</th>\n",
       "      <th>FTI</th>\n",
       "      <th>Class</th>\n",
       "      <th>referral_source_STMW</th>\n",
       "      <th>referral_source_SVHC</th>\n",
       "      <th>referral_source_SVHD</th>\n",
       "      <th>referral_source_SVI</th>\n",
       "      <th>referral_source_other</th>\n",
       "    </tr>\n",
       "  </thead>\n",
       "  <tbody>\n",
       "    <tr>\n",
       "      <th>0</th>\n",
       "      <td>41.0</td>\n",
       "      <td>1.0</td>\n",
       "      <td>0.0</td>\n",
       "      <td>0.0</td>\n",
       "      <td>0.0</td>\n",
       "      <td>0.0</td>\n",
       "      <td>0.0</td>\n",
       "      <td>0.0</td>\n",
       "      <td>0.0</td>\n",
       "      <td>0.0</td>\n",
       "      <td>...</td>\n",
       "      <td>2.0</td>\n",
       "      <td>125.0</td>\n",
       "      <td>1.0</td>\n",
       "      <td>109.0</td>\n",
       "      <td>1.0</td>\n",
       "      <td>0.0</td>\n",
       "      <td>1.0</td>\n",
       "      <td>0.0</td>\n",
       "      <td>0.0</td>\n",
       "      <td>0.0</td>\n",
       "    </tr>\n",
       "    <tr>\n",
       "      <th>1</th>\n",
       "      <td>23.0</td>\n",
       "      <td>1.0</td>\n",
       "      <td>0.0</td>\n",
       "      <td>0.0</td>\n",
       "      <td>0.0</td>\n",
       "      <td>0.0</td>\n",
       "      <td>0.0</td>\n",
       "      <td>0.0</td>\n",
       "      <td>0.0</td>\n",
       "      <td>0.0</td>\n",
       "      <td>...</td>\n",
       "      <td>2.0</td>\n",
       "      <td>102.0</td>\n",
       "      <td>1.0</td>\n",
       "      <td>108.0</td>\n",
       "      <td>1.0</td>\n",
       "      <td>0.0</td>\n",
       "      <td>0.0</td>\n",
       "      <td>0.0</td>\n",
       "      <td>0.0</td>\n",
       "      <td>1.0</td>\n",
       "    </tr>\n",
       "    <tr>\n",
       "      <th>2</th>\n",
       "      <td>46.0</td>\n",
       "      <td>0.0</td>\n",
       "      <td>0.0</td>\n",
       "      <td>0.0</td>\n",
       "      <td>0.0</td>\n",
       "      <td>0.0</td>\n",
       "      <td>0.0</td>\n",
       "      <td>0.0</td>\n",
       "      <td>0.0</td>\n",
       "      <td>0.0</td>\n",
       "      <td>...</td>\n",
       "      <td>2.0</td>\n",
       "      <td>109.0</td>\n",
       "      <td>1.0</td>\n",
       "      <td>120.0</td>\n",
       "      <td>1.0</td>\n",
       "      <td>0.0</td>\n",
       "      <td>0.0</td>\n",
       "      <td>0.0</td>\n",
       "      <td>0.0</td>\n",
       "      <td>1.0</td>\n",
       "    </tr>\n",
       "    <tr>\n",
       "      <th>3</th>\n",
       "      <td>70.0</td>\n",
       "      <td>1.0</td>\n",
       "      <td>1.0</td>\n",
       "      <td>0.0</td>\n",
       "      <td>0.0</td>\n",
       "      <td>0.0</td>\n",
       "      <td>0.0</td>\n",
       "      <td>0.0</td>\n",
       "      <td>0.0</td>\n",
       "      <td>0.0</td>\n",
       "      <td>...</td>\n",
       "      <td>2.0</td>\n",
       "      <td>175.0</td>\n",
       "      <td>1.0</td>\n",
       "      <td>177.0</td>\n",
       "      <td>1.0</td>\n",
       "      <td>0.0</td>\n",
       "      <td>0.0</td>\n",
       "      <td>0.0</td>\n",
       "      <td>0.0</td>\n",
       "      <td>1.0</td>\n",
       "    </tr>\n",
       "    <tr>\n",
       "      <th>4</th>\n",
       "      <td>70.0</td>\n",
       "      <td>1.0</td>\n",
       "      <td>0.0</td>\n",
       "      <td>0.0</td>\n",
       "      <td>0.0</td>\n",
       "      <td>0.0</td>\n",
       "      <td>0.0</td>\n",
       "      <td>0.0</td>\n",
       "      <td>0.0</td>\n",
       "      <td>0.0</td>\n",
       "      <td>...</td>\n",
       "      <td>1.0</td>\n",
       "      <td>61.0</td>\n",
       "      <td>1.0</td>\n",
       "      <td>70.0</td>\n",
       "      <td>1.0</td>\n",
       "      <td>0.0</td>\n",
       "      <td>0.0</td>\n",
       "      <td>0.0</td>\n",
       "      <td>1.0</td>\n",
       "      <td>0.0</td>\n",
       "    </tr>\n",
       "    <tr>\n",
       "      <th>...</th>\n",
       "      <td>...</td>\n",
       "      <td>...</td>\n",
       "      <td>...</td>\n",
       "      <td>...</td>\n",
       "      <td>...</td>\n",
       "      <td>...</td>\n",
       "      <td>...</td>\n",
       "      <td>...</td>\n",
       "      <td>...</td>\n",
       "      <td>...</td>\n",
       "      <td>...</td>\n",
       "      <td>...</td>\n",
       "      <td>...</td>\n",
       "      <td>...</td>\n",
       "      <td>...</td>\n",
       "      <td>...</td>\n",
       "      <td>...</td>\n",
       "      <td>...</td>\n",
       "      <td>...</td>\n",
       "      <td>...</td>\n",
       "      <td>...</td>\n",
       "    </tr>\n",
       "    <tr>\n",
       "      <th>3767</th>\n",
       "      <td>30.0</td>\n",
       "      <td>1.0</td>\n",
       "      <td>0.0</td>\n",
       "      <td>0.0</td>\n",
       "      <td>0.0</td>\n",
       "      <td>0.0</td>\n",
       "      <td>0.0</td>\n",
       "      <td>0.0</td>\n",
       "      <td>0.0</td>\n",
       "      <td>0.0</td>\n",
       "      <td>...</td>\n",
       "      <td>3.0</td>\n",
       "      <td>131.0</td>\n",
       "      <td>1.0</td>\n",
       "      <td>117.0</td>\n",
       "      <td>1.0</td>\n",
       "      <td>0.0</td>\n",
       "      <td>0.0</td>\n",
       "      <td>0.0</td>\n",
       "      <td>0.0</td>\n",
       "      <td>1.0</td>\n",
       "    </tr>\n",
       "    <tr>\n",
       "      <th>3768</th>\n",
       "      <td>68.0</td>\n",
       "      <td>1.0</td>\n",
       "      <td>0.0</td>\n",
       "      <td>0.0</td>\n",
       "      <td>0.0</td>\n",
       "      <td>0.0</td>\n",
       "      <td>0.0</td>\n",
       "      <td>0.0</td>\n",
       "      <td>0.0</td>\n",
       "      <td>0.0</td>\n",
       "      <td>...</td>\n",
       "      <td>2.0</td>\n",
       "      <td>124.0</td>\n",
       "      <td>1.0</td>\n",
       "      <td>114.0</td>\n",
       "      <td>1.0</td>\n",
       "      <td>0.0</td>\n",
       "      <td>0.0</td>\n",
       "      <td>0.0</td>\n",
       "      <td>1.0</td>\n",
       "      <td>0.0</td>\n",
       "    </tr>\n",
       "    <tr>\n",
       "      <th>3769</th>\n",
       "      <td>74.0</td>\n",
       "      <td>1.0</td>\n",
       "      <td>0.0</td>\n",
       "      <td>0.0</td>\n",
       "      <td>0.0</td>\n",
       "      <td>0.0</td>\n",
       "      <td>0.0</td>\n",
       "      <td>0.0</td>\n",
       "      <td>0.0</td>\n",
       "      <td>0.0</td>\n",
       "      <td>...</td>\n",
       "      <td>2.0</td>\n",
       "      <td>112.0</td>\n",
       "      <td>1.0</td>\n",
       "      <td>105.0</td>\n",
       "      <td>1.0</td>\n",
       "      <td>0.0</td>\n",
       "      <td>0.0</td>\n",
       "      <td>0.0</td>\n",
       "      <td>0.0</td>\n",
       "      <td>1.0</td>\n",
       "    </tr>\n",
       "    <tr>\n",
       "      <th>3770</th>\n",
       "      <td>72.0</td>\n",
       "      <td>0.0</td>\n",
       "      <td>0.0</td>\n",
       "      <td>0.0</td>\n",
       "      <td>0.0</td>\n",
       "      <td>0.0</td>\n",
       "      <td>0.0</td>\n",
       "      <td>0.0</td>\n",
       "      <td>0.0</td>\n",
       "      <td>0.0</td>\n",
       "      <td>...</td>\n",
       "      <td>2.0</td>\n",
       "      <td>82.0</td>\n",
       "      <td>1.0</td>\n",
       "      <td>87.0</td>\n",
       "      <td>1.0</td>\n",
       "      <td>0.0</td>\n",
       "      <td>0.0</td>\n",
       "      <td>0.0</td>\n",
       "      <td>1.0</td>\n",
       "      <td>0.0</td>\n",
       "    </tr>\n",
       "    <tr>\n",
       "      <th>3771</th>\n",
       "      <td>64.0</td>\n",
       "      <td>1.0</td>\n",
       "      <td>0.0</td>\n",
       "      <td>0.0</td>\n",
       "      <td>0.0</td>\n",
       "      <td>0.0</td>\n",
       "      <td>0.0</td>\n",
       "      <td>0.0</td>\n",
       "      <td>0.0</td>\n",
       "      <td>0.0</td>\n",
       "      <td>...</td>\n",
       "      <td>2.0</td>\n",
       "      <td>99.0</td>\n",
       "      <td>1.0</td>\n",
       "      <td>92.0</td>\n",
       "      <td>1.0</td>\n",
       "      <td>0.0</td>\n",
       "      <td>0.0</td>\n",
       "      <td>0.0</td>\n",
       "      <td>0.0</td>\n",
       "      <td>1.0</td>\n",
       "    </tr>\n",
       "  </tbody>\n",
       "</table>\n",
       "<p>3772 rows × 27 columns</p>\n",
       "</div>"
      ],
      "text/plain": [
       "       age  sex  on_thyroxine  query_on_thyroxine  on_antithyroid_medication  \\\n",
       "0     41.0  1.0           0.0                 0.0                        0.0   \n",
       "1     23.0  1.0           0.0                 0.0                        0.0   \n",
       "2     46.0  0.0           0.0                 0.0                        0.0   \n",
       "3     70.0  1.0           1.0                 0.0                        0.0   \n",
       "4     70.0  1.0           0.0                 0.0                        0.0   \n",
       "...    ...  ...           ...                 ...                        ...   \n",
       "3767  30.0  1.0           0.0                 0.0                        0.0   \n",
       "3768  68.0  1.0           0.0                 0.0                        0.0   \n",
       "3769  74.0  1.0           0.0                 0.0                        0.0   \n",
       "3770  72.0  0.0           0.0                 0.0                        0.0   \n",
       "3771  64.0  1.0           0.0                 0.0                        0.0   \n",
       "\n",
       "      sick  pregnant  thyroid_surgery  I131_treatment  query_hypothyroid  ...  \\\n",
       "0      0.0       0.0              0.0             0.0                0.0  ...   \n",
       "1      0.0       0.0              0.0             0.0                0.0  ...   \n",
       "2      0.0       0.0              0.0             0.0                0.0  ...   \n",
       "3      0.0       0.0              0.0             0.0                0.0  ...   \n",
       "4      0.0       0.0              0.0             0.0                0.0  ...   \n",
       "...    ...       ...              ...             ...                ...  ...   \n",
       "3767   0.0       0.0              0.0             0.0                0.0  ...   \n",
       "3768   0.0       0.0              0.0             0.0                0.0  ...   \n",
       "3769   0.0       0.0              0.0             0.0                0.0  ...   \n",
       "3770   0.0       0.0              0.0             0.0                0.0  ...   \n",
       "3771   0.0       0.0              0.0             0.0                0.0  ...   \n",
       "\n",
       "       T3    TT4  T4U    FTI  Class  referral_source_STMW  \\\n",
       "0     2.0  125.0  1.0  109.0    1.0                   0.0   \n",
       "1     2.0  102.0  1.0  108.0    1.0                   0.0   \n",
       "2     2.0  109.0  1.0  120.0    1.0                   0.0   \n",
       "3     2.0  175.0  1.0  177.0    1.0                   0.0   \n",
       "4     1.0   61.0  1.0   70.0    1.0                   0.0   \n",
       "...   ...    ...  ...    ...    ...                   ...   \n",
       "3767  3.0  131.0  1.0  117.0    1.0                   0.0   \n",
       "3768  2.0  124.0  1.0  114.0    1.0                   0.0   \n",
       "3769  2.0  112.0  1.0  105.0    1.0                   0.0   \n",
       "3770  2.0   82.0  1.0   87.0    1.0                   0.0   \n",
       "3771  2.0   99.0  1.0   92.0    1.0                   0.0   \n",
       "\n",
       "      referral_source_SVHC  referral_source_SVHD  referral_source_SVI  \\\n",
       "0                      1.0                   0.0                  0.0   \n",
       "1                      0.0                   0.0                  0.0   \n",
       "2                      0.0                   0.0                  0.0   \n",
       "3                      0.0                   0.0                  0.0   \n",
       "4                      0.0                   0.0                  1.0   \n",
       "...                    ...                   ...                  ...   \n",
       "3767                   0.0                   0.0                  0.0   \n",
       "3768                   0.0                   0.0                  1.0   \n",
       "3769                   0.0                   0.0                  0.0   \n",
       "3770                   0.0                   0.0                  1.0   \n",
       "3771                   0.0                   0.0                  0.0   \n",
       "\n",
       "      referral_source_other  \n",
       "0                       0.0  \n",
       "1                       1.0  \n",
       "2                       1.0  \n",
       "3                       1.0  \n",
       "4                       0.0  \n",
       "...                     ...  \n",
       "3767                    1.0  \n",
       "3768                    0.0  \n",
       "3769                    1.0  \n",
       "3770                    0.0  \n",
       "3771                    1.0  \n",
       "\n",
       "[3772 rows x 27 columns]"
      ]
     },
     "execution_count": 25,
     "metadata": {},
     "output_type": "execute_result"
    }
   ],
   "source": [
    "new_dataset"
   ]
  },
  {
   "cell_type": "code",
   "execution_count": 26,
   "metadata": {
    "colab": {
     "base_uri": "https://localhost:8080/"
    },
    "id": "LCK04Dp5z4Wi",
    "outputId": "8c1df120-a5e1-4a9c-8a2b-e149d810ff2c"
   },
   "outputs": [
    {
     "data": {
      "text/plain": [
       "age                          0\n",
       "sex                          0\n",
       "on_thyroxine                 0\n",
       "query_on_thyroxine           0\n",
       "on_antithyroid_medication    0\n",
       "sick                         0\n",
       "pregnant                     0\n",
       "thyroid_surgery              0\n",
       "I131_treatment               0\n",
       "query_hypothyroid            0\n",
       "query_hyperthyroid           0\n",
       "lithium                      0\n",
       "goitre                       0\n",
       "tumor                        0\n",
       "hypopituitary                0\n",
       "psych                        0\n",
       "TSH                          0\n",
       "T3                           0\n",
       "TT4                          0\n",
       "T4U                          0\n",
       "FTI                          0\n",
       "Class                        0\n",
       "referral_source_STMW         0\n",
       "referral_source_SVHC         0\n",
       "referral_source_SVHD         0\n",
       "referral_source_SVI          0\n",
       "referral_source_other        0\n",
       "dtype: int64"
      ]
     },
     "execution_count": 26,
     "metadata": {},
     "output_type": "execute_result"
    }
   ],
   "source": [
    "new_dataset.isna().sum()"
   ]
  },
  {
   "cell_type": "code",
   "execution_count": 27,
   "metadata": {
    "colab": {
     "base_uri": "https://localhost:8080/",
     "height": 315
    },
    "id": "7Ft7W_y6zwEN",
    "outputId": "cdffcf1d-9660-47c4-ed07-b330e0689d5c"
   },
   "outputs": [
    {
     "data": {
      "text/html": [
       "<div>\n",
       "<style scoped>\n",
       "    .dataframe tbody tr th:only-of-type {\n",
       "        vertical-align: middle;\n",
       "    }\n",
       "\n",
       "    .dataframe tbody tr th {\n",
       "        vertical-align: top;\n",
       "    }\n",
       "\n",
       "    .dataframe thead th {\n",
       "        text-align: right;\n",
       "    }\n",
       "</style>\n",
       "<table border=\"1\" class=\"dataframe\">\n",
       "  <thead>\n",
       "    <tr style=\"text-align: right;\">\n",
       "      <th></th>\n",
       "      <th>age</th>\n",
       "      <th>sex</th>\n",
       "      <th>on_thyroxine</th>\n",
       "      <th>query_on_thyroxine</th>\n",
       "      <th>on_antithyroid_medication</th>\n",
       "      <th>sick</th>\n",
       "      <th>pregnant</th>\n",
       "      <th>thyroid_surgery</th>\n",
       "      <th>I131_treatment</th>\n",
       "      <th>query_hypothyroid</th>\n",
       "      <th>...</th>\n",
       "      <th>T3</th>\n",
       "      <th>TT4</th>\n",
       "      <th>T4U</th>\n",
       "      <th>FTI</th>\n",
       "      <th>Class</th>\n",
       "      <th>referral_source_STMW</th>\n",
       "      <th>referral_source_SVHC</th>\n",
       "      <th>referral_source_SVHD</th>\n",
       "      <th>referral_source_SVI</th>\n",
       "      <th>referral_source_other</th>\n",
       "    </tr>\n",
       "  </thead>\n",
       "  <tbody>\n",
       "    <tr>\n",
       "      <th>count</th>\n",
       "      <td>3772.000000</td>\n",
       "      <td>3772.000000</td>\n",
       "      <td>3772.000000</td>\n",
       "      <td>3772.000000</td>\n",
       "      <td>3772.000000</td>\n",
       "      <td>3772.000000</td>\n",
       "      <td>3772.000000</td>\n",
       "      <td>3772.000000</td>\n",
       "      <td>3772.000000</td>\n",
       "      <td>3772.000000</td>\n",
       "      <td>...</td>\n",
       "      <td>3772.000000</td>\n",
       "      <td>3772.000000</td>\n",
       "      <td>3772.000000</td>\n",
       "      <td>3772.000000</td>\n",
       "      <td>3772.000000</td>\n",
       "      <td>3772.000000</td>\n",
       "      <td>3772.000000</td>\n",
       "      <td>3772.000000</td>\n",
       "      <td>3772.000000</td>\n",
       "      <td>3772.000000</td>\n",
       "    </tr>\n",
       "    <tr>\n",
       "      <th>mean</th>\n",
       "      <td>51.737275</td>\n",
       "      <td>0.692471</td>\n",
       "      <td>0.123012</td>\n",
       "      <td>0.013256</td>\n",
       "      <td>0.011400</td>\n",
       "      <td>0.038971</td>\n",
       "      <td>0.014051</td>\n",
       "      <td>0.014051</td>\n",
       "      <td>0.015642</td>\n",
       "      <td>0.062036</td>\n",
       "      <td>...</td>\n",
       "      <td>2.027306</td>\n",
       "      <td>108.459438</td>\n",
       "      <td>1.020944</td>\n",
       "      <td>110.301166</td>\n",
       "      <td>0.974814</td>\n",
       "      <td>0.029692</td>\n",
       "      <td>0.102333</td>\n",
       "      <td>0.010339</td>\n",
       "      <td>0.274125</td>\n",
       "      <td>0.583510</td>\n",
       "    </tr>\n",
       "    <tr>\n",
       "      <th>std</th>\n",
       "      <td>20.082478</td>\n",
       "      <td>0.461532</td>\n",
       "      <td>0.328494</td>\n",
       "      <td>0.114382</td>\n",
       "      <td>0.106174</td>\n",
       "      <td>0.193552</td>\n",
       "      <td>0.117716</td>\n",
       "      <td>0.117716</td>\n",
       "      <td>0.124101</td>\n",
       "      <td>0.241253</td>\n",
       "      <td>...</td>\n",
       "      <td>0.785068</td>\n",
       "      <td>34.838114</td>\n",
       "      <td>0.165546</td>\n",
       "      <td>32.145618</td>\n",
       "      <td>0.279508</td>\n",
       "      <td>0.169760</td>\n",
       "      <td>0.303126</td>\n",
       "      <td>0.101169</td>\n",
       "      <td>0.446131</td>\n",
       "      <td>0.493042</td>\n",
       "    </tr>\n",
       "    <tr>\n",
       "      <th>min</th>\n",
       "      <td>1.000000</td>\n",
       "      <td>0.000000</td>\n",
       "      <td>0.000000</td>\n",
       "      <td>0.000000</td>\n",
       "      <td>0.000000</td>\n",
       "      <td>0.000000</td>\n",
       "      <td>0.000000</td>\n",
       "      <td>0.000000</td>\n",
       "      <td>0.000000</td>\n",
       "      <td>0.000000</td>\n",
       "      <td>...</td>\n",
       "      <td>0.000000</td>\n",
       "      <td>2.000000</td>\n",
       "      <td>0.000000</td>\n",
       "      <td>2.000000</td>\n",
       "      <td>0.000000</td>\n",
       "      <td>0.000000</td>\n",
       "      <td>0.000000</td>\n",
       "      <td>0.000000</td>\n",
       "      <td>0.000000</td>\n",
       "      <td>0.000000</td>\n",
       "    </tr>\n",
       "    <tr>\n",
       "      <th>25%</th>\n",
       "      <td>36.000000</td>\n",
       "      <td>0.000000</td>\n",
       "      <td>0.000000</td>\n",
       "      <td>0.000000</td>\n",
       "      <td>0.000000</td>\n",
       "      <td>0.000000</td>\n",
       "      <td>0.000000</td>\n",
       "      <td>0.000000</td>\n",
       "      <td>0.000000</td>\n",
       "      <td>0.000000</td>\n",
       "      <td>...</td>\n",
       "      <td>2.000000</td>\n",
       "      <td>88.000000</td>\n",
       "      <td>1.000000</td>\n",
       "      <td>93.000000</td>\n",
       "      <td>1.000000</td>\n",
       "      <td>0.000000</td>\n",
       "      <td>0.000000</td>\n",
       "      <td>0.000000</td>\n",
       "      <td>0.000000</td>\n",
       "      <td>0.000000</td>\n",
       "    </tr>\n",
       "    <tr>\n",
       "      <th>50%</th>\n",
       "      <td>54.000000</td>\n",
       "      <td>1.000000</td>\n",
       "      <td>0.000000</td>\n",
       "      <td>0.000000</td>\n",
       "      <td>0.000000</td>\n",
       "      <td>0.000000</td>\n",
       "      <td>0.000000</td>\n",
       "      <td>0.000000</td>\n",
       "      <td>0.000000</td>\n",
       "      <td>0.000000</td>\n",
       "      <td>...</td>\n",
       "      <td>2.000000</td>\n",
       "      <td>104.000000</td>\n",
       "      <td>1.000000</td>\n",
       "      <td>107.000000</td>\n",
       "      <td>1.000000</td>\n",
       "      <td>0.000000</td>\n",
       "      <td>0.000000</td>\n",
       "      <td>0.000000</td>\n",
       "      <td>0.000000</td>\n",
       "      <td>1.000000</td>\n",
       "    </tr>\n",
       "    <tr>\n",
       "      <th>75%</th>\n",
       "      <td>67.000000</td>\n",
       "      <td>1.000000</td>\n",
       "      <td>0.000000</td>\n",
       "      <td>0.000000</td>\n",
       "      <td>0.000000</td>\n",
       "      <td>0.000000</td>\n",
       "      <td>0.000000</td>\n",
       "      <td>0.000000</td>\n",
       "      <td>0.000000</td>\n",
       "      <td>0.000000</td>\n",
       "      <td>...</td>\n",
       "      <td>2.000000</td>\n",
       "      <td>124.000000</td>\n",
       "      <td>1.000000</td>\n",
       "      <td>124.000000</td>\n",
       "      <td>1.000000</td>\n",
       "      <td>0.000000</td>\n",
       "      <td>0.000000</td>\n",
       "      <td>0.000000</td>\n",
       "      <td>1.000000</td>\n",
       "      <td>1.000000</td>\n",
       "    </tr>\n",
       "    <tr>\n",
       "      <th>max</th>\n",
       "      <td>455.000000</td>\n",
       "      <td>1.000000</td>\n",
       "      <td>1.000000</td>\n",
       "      <td>1.000000</td>\n",
       "      <td>1.000000</td>\n",
       "      <td>1.000000</td>\n",
       "      <td>1.000000</td>\n",
       "      <td>1.000000</td>\n",
       "      <td>1.000000</td>\n",
       "      <td>1.000000</td>\n",
       "      <td>...</td>\n",
       "      <td>11.000000</td>\n",
       "      <td>430.000000</td>\n",
       "      <td>2.000000</td>\n",
       "      <td>395.000000</td>\n",
       "      <td>3.000000</td>\n",
       "      <td>1.000000</td>\n",
       "      <td>1.000000</td>\n",
       "      <td>1.000000</td>\n",
       "      <td>1.000000</td>\n",
       "      <td>1.000000</td>\n",
       "    </tr>\n",
       "  </tbody>\n",
       "</table>\n",
       "<p>8 rows × 27 columns</p>\n",
       "</div>"
      ],
      "text/plain": [
       "               age          sex  on_thyroxine  query_on_thyroxine  \\\n",
       "count  3772.000000  3772.000000   3772.000000         3772.000000   \n",
       "mean     51.737275     0.692471      0.123012            0.013256   \n",
       "std      20.082478     0.461532      0.328494            0.114382   \n",
       "min       1.000000     0.000000      0.000000            0.000000   \n",
       "25%      36.000000     0.000000      0.000000            0.000000   \n",
       "50%      54.000000     1.000000      0.000000            0.000000   \n",
       "75%      67.000000     1.000000      0.000000            0.000000   \n",
       "max     455.000000     1.000000      1.000000            1.000000   \n",
       "\n",
       "       on_antithyroid_medication         sick     pregnant  thyroid_surgery  \\\n",
       "count                3772.000000  3772.000000  3772.000000      3772.000000   \n",
       "mean                    0.011400     0.038971     0.014051         0.014051   \n",
       "std                     0.106174     0.193552     0.117716         0.117716   \n",
       "min                     0.000000     0.000000     0.000000         0.000000   \n",
       "25%                     0.000000     0.000000     0.000000         0.000000   \n",
       "50%                     0.000000     0.000000     0.000000         0.000000   \n",
       "75%                     0.000000     0.000000     0.000000         0.000000   \n",
       "max                     1.000000     1.000000     1.000000         1.000000   \n",
       "\n",
       "       I131_treatment  query_hypothyroid  ...           T3          TT4  \\\n",
       "count     3772.000000        3772.000000  ...  3772.000000  3772.000000   \n",
       "mean         0.015642           0.062036  ...     2.027306   108.459438   \n",
       "std          0.124101           0.241253  ...     0.785068    34.838114   \n",
       "min          0.000000           0.000000  ...     0.000000     2.000000   \n",
       "25%          0.000000           0.000000  ...     2.000000    88.000000   \n",
       "50%          0.000000           0.000000  ...     2.000000   104.000000   \n",
       "75%          0.000000           0.000000  ...     2.000000   124.000000   \n",
       "max          1.000000           1.000000  ...    11.000000   430.000000   \n",
       "\n",
       "               T4U          FTI        Class  referral_source_STMW  \\\n",
       "count  3772.000000  3772.000000  3772.000000           3772.000000   \n",
       "mean      1.020944   110.301166     0.974814              0.029692   \n",
       "std       0.165546    32.145618     0.279508              0.169760   \n",
       "min       0.000000     2.000000     0.000000              0.000000   \n",
       "25%       1.000000    93.000000     1.000000              0.000000   \n",
       "50%       1.000000   107.000000     1.000000              0.000000   \n",
       "75%       1.000000   124.000000     1.000000              0.000000   \n",
       "max       2.000000   395.000000     3.000000              1.000000   \n",
       "\n",
       "       referral_source_SVHC  referral_source_SVHD  referral_source_SVI  \\\n",
       "count           3772.000000           3772.000000          3772.000000   \n",
       "mean               0.102333              0.010339             0.274125   \n",
       "std                0.303126              0.101169             0.446131   \n",
       "min                0.000000              0.000000             0.000000   \n",
       "25%                0.000000              0.000000             0.000000   \n",
       "50%                0.000000              0.000000             0.000000   \n",
       "75%                0.000000              0.000000             1.000000   \n",
       "max                1.000000              1.000000             1.000000   \n",
       "\n",
       "       referral_source_other  \n",
       "count            3772.000000  \n",
       "mean                0.583510  \n",
       "std                 0.493042  \n",
       "min                 0.000000  \n",
       "25%                 0.000000  \n",
       "50%                 1.000000  \n",
       "75%                 1.000000  \n",
       "max                 1.000000  \n",
       "\n",
       "[8 rows x 27 columns]"
      ]
     },
     "execution_count": 27,
     "metadata": {},
     "output_type": "execute_result"
    }
   ],
   "source": [
    "new_dataset.describe()"
   ]
  },
  {
   "cell_type": "markdown",
   "metadata": {
    "id": "P3_sz_BhnMRN"
   },
   "source": [
    "# 3.) Data Visualization\n",
    "\n",
    "\n",
    "> In this section we will visualize our data to check for outliers,skewness and to see if the classes are uniformly distributed\n",
    "\n",
    "\n"
   ]
  },
  {
   "cell_type": "code",
   "execution_count": 28,
   "metadata": {
    "colab": {
     "base_uri": "https://localhost:8080/",
     "height": 1000
    },
    "id": "BBW6FSoxw6kx",
    "outputId": "9fcbe476-161b-4a6c-f84b-b41e4d554659"
   },
   "outputs": [
    {
     "data": {
      "image/png": "[encoded data removed]",
      "text/plain": [
       "<Figure size 720x3600 with 6 Axes>"
      ]
     },
     "metadata": {},
     "output_type": "display_data"
    }
   ],
   "source": [
    "#outliers boxplot\n",
    "col_names = [\"age\", \"TSH\", \"T3\", \"TT4\", \"T4U\", \"FTI\"]\n",
    "fig, ax = plot.subplots(len(col_names), figsize = (10,50))\n",
    "for i, col_val in enumerate(col_names):\n",
    "\n",
    "    sns.boxplot(x = new_dataset[col_val], ax=ax[i])\n",
    "    ax[i].set_title('A boxplot on the {} column'.format(col_val), fontsize=14)\n",
    "    ax[i].set_xlabel(col_val, fontsize=8)\n",
    "plot.show()"
   ]
  },
  {
   "cell_type": "code",
   "execution_count": 29,
   "metadata": {
    "colab": {
     "base_uri": "https://localhost:8080/"
    },
    "id": "yVm1LfeYrPAK",
    "outputId": "a8ba243a-132b-4fb0-9898-a79123532c0d"
   },
   "outputs": [
    {
     "data": {
      "text/plain": [
       "age       1\n",
       "TSH     373\n",
       "T3     1231\n",
       "TT4     193\n",
       "T4U     105\n",
       "FTI     222\n",
       "dtype: int64"
      ]
     },
     "execution_count": 29,
     "metadata": {},
     "output_type": "execute_result"
    }
   ],
   "source": [
    "#ouliers count\n",
    "dataset1= new_dataset[[\"age\", \"TSH\", \"T3\", \"TT4\", \"T4U\", \"FTI\"]]\n",
    "Q1 = dataset1.quantile(0.25)\n",
    "Q3 = dataset1.quantile(0.75)\n",
    "IQR = Q3 - Q1\n",
    "((dataset1 < (Q1 - 1.5 * IQR)) | (dataset1> (Q3 + 1.5 * IQR))).sum()"
   ]
  },
  {
   "cell_type": "markdown",
   "metadata": {
    "id": "5sKzMDpzyBr1"
   },
   "source": [
    "Age has one outlier. Hence we drop the row. Other outliers cannot be dropped as that might affect the model due to higher number"
   ]
  },
  {
   "cell_type": "code",
   "execution_count": 30,
   "metadata": {
    "id": "t9GYcyF5yBQg"
   },
   "outputs": [],
   "source": [
    "index_names=new_dataset[new_dataset['age']>=100].index\n",
    "new_dataset.drop(index_names, inplace=True)"
   ]
  },
  {
   "cell_type": "code",
   "execution_count": 31,
   "metadata": {
    "colab": {
     "base_uri": "https://localhost:8080/"
    },
    "id": "aKlzcsI4zM5q",
    "outputId": "c94210b1-e8d1-4894-ec8f-37bf693ca99f"
   },
   "outputs": [
    {
     "data": {
      "text/plain": [
       "age       0\n",
       "TSH     373\n",
       "T3     1231\n",
       "TT4     193\n",
       "T4U     105\n",
       "FTI     222\n",
       "dtype: int64"
      ]
     },
     "execution_count": 31,
     "metadata": {},
     "output_type": "execute_result"
    }
   ],
   "source": [
    "#check if outlier was dropped\n",
    "dataset1= new_dataset[[\"age\", \"TSH\", \"T3\", \"TT4\", \"T4U\", \"FTI\"]]\n",
    "Q1 = dataset1.quantile(0.25)\n",
    "Q3 = dataset1.quantile(0.75)\n",
    "IQR = Q3 - Q1\n",
    "((dataset1 < (Q1 - 1.5 * IQR)) | (dataset1> (Q3 + 1.5 * IQR))).sum()"
   ]
  },
  {
   "cell_type": "markdown",
   "metadata": {
    "id": "raNUEMJ3GNpN"
   },
   "source": [
    "We shall now check the distribution of continuous data in dataset\n"
   ]
  },
  {
   "cell_type": "markdown",
   "metadata": {
    "id": "dGMjXJJ_V6Bl"
   },
   "source": [
    "The graphs for age, TSH and T3 looks heavely skewed towards left.Hence we will need to do some transformations to the data and see if it improves the plot.\n",
    "\n",
    "Before performing a log transformation , let's add 1 to each value in the column to handle exception when we try to find log of '0'."
   ]
  },
  {
   "cell_type": "code",
   "execution_count": 32,
   "metadata": {
    "colab": {
     "base_uri": "https://localhost:8080/",
     "height": 880
    },
    "id": "C9LxZlJiV8z6",
    "outputId": "7aebe5aa-c819-429f-dc6d-820723572b5b"
   },
   "outputs": [
    {
     "data": {
      "image/png": "[encoded data removed]",
      "text/plain": [
       "<Figure size 720x1080 with 6 Axes>"
      ]
     },
     "metadata": {},
     "output_type": "display_data"
    }
   ],
   "source": [
    "columns = ['age','TSH','T3','TT4','T4U','FTI']\n",
    "\n",
    "plot.figure(figsize=(10,15),facecolor='white')\n",
    "plotnumber = 1\n",
    "\n",
    "for column in columns:\n",
    "    new_dataset[column]+=1\n",
    "    ax = plot.subplot(3,2,plotnumber)\n",
    "    sns.distplot(np.log(new_dataset[column]))\n",
    "    plot.xlabel(column,fontsize=10)\n",
    "    plotnumber+=1\n",
    "plot.show()\n"
   ]
  },
  {
   "cell_type": "markdown",
   "metadata": {
    "id": "pkaDIVjoWLuW"
   },
   "source": [
    "After log transformation, rest of the columns look fine however 'TSH' has a weird trend.\n",
    "\n",
    "It won't give much of information so let's drop this column."
   ]
  },
  {
   "cell_type": "code",
   "execution_count": 33,
   "metadata": {
    "id": "X7yckonFWMqT"
   },
   "outputs": [],
   "source": [
    "new_dataset = new_dataset.drop(['TSH'],axis=1)"
   ]
  },
  {
   "cell_type": "markdown",
   "metadata": {
    "id": "epaC24fm0wNC"
   },
   "source": [
    "We shall now check if output class is uniformly distributed"
   ]
  },
  {
   "cell_type": "code",
   "execution_count": 34,
   "metadata": {
    "colab": {
     "base_uri": "https://localhost:8080/"
    },
    "id": "IwIp3hOJiiXP",
    "outputId": "025c4b38-3903-4cdf-872e-9763277ccc0a"
   },
   "outputs": [
    {
     "data": {
      "text/plain": [
       "Class\n",
       "0.0     194\n",
       "1.0    3480\n",
       "2.0      95\n",
       "3.0       2\n",
       "dtype: int64"
      ]
     },
     "execution_count": 34,
     "metadata": {},
     "output_type": "execute_result"
    }
   ],
   "source": [
    "new_dataset.groupby('Class').size() #array(['negative', 'compensated_hypothyroid', 'primary_hypothyroid', 'secondary_hypothyroid'], dtype=object)"
   ]
  },
  {
   "cell_type": "code",
   "execution_count": 35,
   "metadata": {
    "colab": {
     "base_uri": "https://localhost:8080/",
     "height": 302
    },
    "id": "JOUzTau3WU9f",
    "outputId": "330e13e1-0f9b-4e9c-b628-d055f8bbd0a1"
   },
   "outputs": [
    {
     "data": {
      "text/plain": [
       "<AxesSubplot:xlabel='Class', ylabel='count'>"
      ]
     },
     "execution_count": 35,
     "metadata": {},
     "output_type": "execute_result"
    },
    {
     "data": {
      "image/png": "[encoded data removed]",
      "text/plain": [
       "<Figure size 432x288 with 1 Axes>"
      ]
     },
     "metadata": {},
     "output_type": "display_data"
    }
   ],
   "source": [
    "sns.countplot(new_dataset['Class'])"
   ]
  },
  {
   "cell_type": "markdown",
   "metadata": {
    "id": "R3AQ8AMyXq-Z"
   },
   "source": [
    "We can clearly see that the dataset is highly imbalanced.\n",
    "\n",
    "Inoder to fix this we make use of a python library known as imbalanced-learn to deal with imbalanced data.From imbalanced learn we will be using the RandomOverSampler.\n",
    "\n",
    "\n",
    "> The bias in a training dataset can influence machine learning algorithms, leading some to ignore the minority class entirely.One approach to addressing the problem of class imbalance is to randomly resample the training dataset. The two main approaches to randomly resampling an imbalanced dataset are to delete examples from the majority class, called undersampling, and to duplicate examples from the minority class, called oversampling.\n",
    "We shall be performing oversampling\n",
    "\n"
   ]
  },
  {
   "cell_type": "code",
   "execution_count": 36,
   "metadata": {
    "id": "vCZasYviXtPi"
   },
   "outputs": [],
   "source": [
    "x = new_dataset.drop(['Class'],axis=1)\n",
    "y = new_dataset['Class']\n",
    "rdsmple = RandomOverSampler()\n",
    "x_sampled,y_sampled  = rdsmple.fit_resample(x,y)"
   ]
  },
  {
   "cell_type": "code",
   "execution_count": 37,
   "metadata": {
    "colab": {
     "base_uri": "https://localhost:8080/"
    },
    "id": "puUfj9ROZDm3",
    "outputId": "a638e637-cb77-499a-a8a4-2ac96cefda0c"
   },
   "outputs": [
    {
     "data": {
      "text/plain": [
       "(13920, 25)"
      ]
     },
     "execution_count": 37,
     "metadata": {},
     "output_type": "execute_result"
    }
   ],
   "source": [
    "x_sampled.shape"
   ]
  },
  {
   "cell_type": "code",
   "execution_count": 38,
   "metadata": {
    "id": "VtUEQegXZHf6"
   },
   "outputs": [],
   "source": [
    "x_sampled = pd.DataFrame(data = x_sampled, columns = x.columns)"
   ]
  },
  {
   "cell_type": "code",
   "execution_count": 39,
   "metadata": {
    "colab": {
     "base_uri": "https://localhost:8080/",
     "height": 437
    },
    "id": "N_n4OXU6ZKwL",
    "outputId": "8ac46ed9-67c8-4b20-9031-c0ee06a1ffa3"
   },
   "outputs": [
    {
     "data": {
      "text/html": [
       "<div>\n",
       "<style scoped>\n",
       "    .dataframe tbody tr th:only-of-type {\n",
       "        vertical-align: middle;\n",
       "    }\n",
       "\n",
       "    .dataframe tbody tr th {\n",
       "        vertical-align: top;\n",
       "    }\n",
       "\n",
       "    .dataframe thead th {\n",
       "        text-align: right;\n",
       "    }\n",
       "</style>\n",
       "<table border=\"1\" class=\"dataframe\">\n",
       "  <thead>\n",
       "    <tr style=\"text-align: right;\">\n",
       "      <th></th>\n",
       "      <th>age</th>\n",
       "      <th>sex</th>\n",
       "      <th>on_thyroxine</th>\n",
       "      <th>query_on_thyroxine</th>\n",
       "      <th>on_antithyroid_medication</th>\n",
       "      <th>sick</th>\n",
       "      <th>pregnant</th>\n",
       "      <th>thyroid_surgery</th>\n",
       "      <th>I131_treatment</th>\n",
       "      <th>query_hypothyroid</th>\n",
       "      <th>...</th>\n",
       "      <th>psych</th>\n",
       "      <th>T3</th>\n",
       "      <th>TT4</th>\n",
       "      <th>T4U</th>\n",
       "      <th>FTI</th>\n",
       "      <th>referral_source_STMW</th>\n",
       "      <th>referral_source_SVHC</th>\n",
       "      <th>referral_source_SVHD</th>\n",
       "      <th>referral_source_SVI</th>\n",
       "      <th>referral_source_other</th>\n",
       "    </tr>\n",
       "  </thead>\n",
       "  <tbody>\n",
       "    <tr>\n",
       "      <th>0</th>\n",
       "      <td>42.0</td>\n",
       "      <td>1.0</td>\n",
       "      <td>0.0</td>\n",
       "      <td>0.0</td>\n",
       "      <td>0.0</td>\n",
       "      <td>0.0</td>\n",
       "      <td>0.0</td>\n",
       "      <td>0.0</td>\n",
       "      <td>0.0</td>\n",
       "      <td>0.0</td>\n",
       "      <td>...</td>\n",
       "      <td>0.0</td>\n",
       "      <td>3.0</td>\n",
       "      <td>126.0</td>\n",
       "      <td>2.0</td>\n",
       "      <td>110.0</td>\n",
       "      <td>0.0</td>\n",
       "      <td>1.0</td>\n",
       "      <td>0.0</td>\n",
       "      <td>0.0</td>\n",
       "      <td>0.0</td>\n",
       "    </tr>\n",
       "    <tr>\n",
       "      <th>1</th>\n",
       "      <td>24.0</td>\n",
       "      <td>1.0</td>\n",
       "      <td>0.0</td>\n",
       "      <td>0.0</td>\n",
       "      <td>0.0</td>\n",
       "      <td>0.0</td>\n",
       "      <td>0.0</td>\n",
       "      <td>0.0</td>\n",
       "      <td>0.0</td>\n",
       "      <td>0.0</td>\n",
       "      <td>...</td>\n",
       "      <td>0.0</td>\n",
       "      <td>3.0</td>\n",
       "      <td>103.0</td>\n",
       "      <td>2.0</td>\n",
       "      <td>109.0</td>\n",
       "      <td>0.0</td>\n",
       "      <td>0.0</td>\n",
       "      <td>0.0</td>\n",
       "      <td>0.0</td>\n",
       "      <td>1.0</td>\n",
       "    </tr>\n",
       "    <tr>\n",
       "      <th>2</th>\n",
       "      <td>47.0</td>\n",
       "      <td>0.0</td>\n",
       "      <td>0.0</td>\n",
       "      <td>0.0</td>\n",
       "      <td>0.0</td>\n",
       "      <td>0.0</td>\n",
       "      <td>0.0</td>\n",
       "      <td>0.0</td>\n",
       "      <td>0.0</td>\n",
       "      <td>0.0</td>\n",
       "      <td>...</td>\n",
       "      <td>0.0</td>\n",
       "      <td>3.0</td>\n",
       "      <td>110.0</td>\n",
       "      <td>2.0</td>\n",
       "      <td>121.0</td>\n",
       "      <td>0.0</td>\n",
       "      <td>0.0</td>\n",
       "      <td>0.0</td>\n",
       "      <td>0.0</td>\n",
       "      <td>1.0</td>\n",
       "    </tr>\n",
       "    <tr>\n",
       "      <th>3</th>\n",
       "      <td>71.0</td>\n",
       "      <td>1.0</td>\n",
       "      <td>1.0</td>\n",
       "      <td>0.0</td>\n",
       "      <td>0.0</td>\n",
       "      <td>0.0</td>\n",
       "      <td>0.0</td>\n",
       "      <td>0.0</td>\n",
       "      <td>0.0</td>\n",
       "      <td>0.0</td>\n",
       "      <td>...</td>\n",
       "      <td>0.0</td>\n",
       "      <td>3.0</td>\n",
       "      <td>176.0</td>\n",
       "      <td>2.0</td>\n",
       "      <td>178.0</td>\n",
       "      <td>0.0</td>\n",
       "      <td>0.0</td>\n",
       "      <td>0.0</td>\n",
       "      <td>0.0</td>\n",
       "      <td>1.0</td>\n",
       "    </tr>\n",
       "    <tr>\n",
       "      <th>4</th>\n",
       "      <td>71.0</td>\n",
       "      <td>1.0</td>\n",
       "      <td>0.0</td>\n",
       "      <td>0.0</td>\n",
       "      <td>0.0</td>\n",
       "      <td>0.0</td>\n",
       "      <td>0.0</td>\n",
       "      <td>0.0</td>\n",
       "      <td>0.0</td>\n",
       "      <td>0.0</td>\n",
       "      <td>...</td>\n",
       "      <td>0.0</td>\n",
       "      <td>2.0</td>\n",
       "      <td>62.0</td>\n",
       "      <td>2.0</td>\n",
       "      <td>71.0</td>\n",
       "      <td>0.0</td>\n",
       "      <td>0.0</td>\n",
       "      <td>0.0</td>\n",
       "      <td>1.0</td>\n",
       "      <td>0.0</td>\n",
       "    </tr>\n",
       "    <tr>\n",
       "      <th>...</th>\n",
       "      <td>...</td>\n",
       "      <td>...</td>\n",
       "      <td>...</td>\n",
       "      <td>...</td>\n",
       "      <td>...</td>\n",
       "      <td>...</td>\n",
       "      <td>...</td>\n",
       "      <td>...</td>\n",
       "      <td>...</td>\n",
       "      <td>...</td>\n",
       "      <td>...</td>\n",
       "      <td>...</td>\n",
       "      <td>...</td>\n",
       "      <td>...</td>\n",
       "      <td>...</td>\n",
       "      <td>...</td>\n",
       "      <td>...</td>\n",
       "      <td>...</td>\n",
       "      <td>...</td>\n",
       "      <td>...</td>\n",
       "      <td>...</td>\n",
       "    </tr>\n",
       "    <tr>\n",
       "      <th>13915</th>\n",
       "      <td>47.0</td>\n",
       "      <td>1.0</td>\n",
       "      <td>0.0</td>\n",
       "      <td>0.0</td>\n",
       "      <td>0.0</td>\n",
       "      <td>0.0</td>\n",
       "      <td>0.0</td>\n",
       "      <td>0.0</td>\n",
       "      <td>0.0</td>\n",
       "      <td>0.0</td>\n",
       "      <td>...</td>\n",
       "      <td>0.0</td>\n",
       "      <td>2.0</td>\n",
       "      <td>49.0</td>\n",
       "      <td>2.0</td>\n",
       "      <td>55.0</td>\n",
       "      <td>0.0</td>\n",
       "      <td>0.0</td>\n",
       "      <td>0.0</td>\n",
       "      <td>0.0</td>\n",
       "      <td>1.0</td>\n",
       "    </tr>\n",
       "    <tr>\n",
       "      <th>13916</th>\n",
       "      <td>42.0</td>\n",
       "      <td>0.0</td>\n",
       "      <td>0.0</td>\n",
       "      <td>0.0</td>\n",
       "      <td>0.0</td>\n",
       "      <td>0.0</td>\n",
       "      <td>0.0</td>\n",
       "      <td>0.0</td>\n",
       "      <td>0.0</td>\n",
       "      <td>1.0</td>\n",
       "      <td>...</td>\n",
       "      <td>0.0</td>\n",
       "      <td>3.0</td>\n",
       "      <td>23.0</td>\n",
       "      <td>2.0</td>\n",
       "      <td>58.0</td>\n",
       "      <td>0.0</td>\n",
       "      <td>0.0</td>\n",
       "      <td>0.0</td>\n",
       "      <td>0.0</td>\n",
       "      <td>1.0</td>\n",
       "    </tr>\n",
       "    <tr>\n",
       "      <th>13917</th>\n",
       "      <td>47.0</td>\n",
       "      <td>1.0</td>\n",
       "      <td>0.0</td>\n",
       "      <td>0.0</td>\n",
       "      <td>0.0</td>\n",
       "      <td>0.0</td>\n",
       "      <td>0.0</td>\n",
       "      <td>0.0</td>\n",
       "      <td>0.0</td>\n",
       "      <td>0.0</td>\n",
       "      <td>...</td>\n",
       "      <td>0.0</td>\n",
       "      <td>2.0</td>\n",
       "      <td>49.0</td>\n",
       "      <td>2.0</td>\n",
       "      <td>55.0</td>\n",
       "      <td>0.0</td>\n",
       "      <td>0.0</td>\n",
       "      <td>0.0</td>\n",
       "      <td>0.0</td>\n",
       "      <td>1.0</td>\n",
       "    </tr>\n",
       "    <tr>\n",
       "      <th>13918</th>\n",
       "      <td>42.0</td>\n",
       "      <td>0.0</td>\n",
       "      <td>0.0</td>\n",
       "      <td>0.0</td>\n",
       "      <td>0.0</td>\n",
       "      <td>0.0</td>\n",
       "      <td>0.0</td>\n",
       "      <td>0.0</td>\n",
       "      <td>0.0</td>\n",
       "      <td>1.0</td>\n",
       "      <td>...</td>\n",
       "      <td>0.0</td>\n",
       "      <td>3.0</td>\n",
       "      <td>23.0</td>\n",
       "      <td>2.0</td>\n",
       "      <td>58.0</td>\n",
       "      <td>0.0</td>\n",
       "      <td>0.0</td>\n",
       "      <td>0.0</td>\n",
       "      <td>0.0</td>\n",
       "      <td>1.0</td>\n",
       "    </tr>\n",
       "    <tr>\n",
       "      <th>13919</th>\n",
       "      <td>47.0</td>\n",
       "      <td>1.0</td>\n",
       "      <td>0.0</td>\n",
       "      <td>0.0</td>\n",
       "      <td>0.0</td>\n",
       "      <td>0.0</td>\n",
       "      <td>0.0</td>\n",
       "      <td>0.0</td>\n",
       "      <td>0.0</td>\n",
       "      <td>0.0</td>\n",
       "      <td>...</td>\n",
       "      <td>0.0</td>\n",
       "      <td>2.0</td>\n",
       "      <td>49.0</td>\n",
       "      <td>2.0</td>\n",
       "      <td>55.0</td>\n",
       "      <td>0.0</td>\n",
       "      <td>0.0</td>\n",
       "      <td>0.0</td>\n",
       "      <td>0.0</td>\n",
       "      <td>1.0</td>\n",
       "    </tr>\n",
       "  </tbody>\n",
       "</table>\n",
       "<p>13920 rows × 25 columns</p>\n",
       "</div>"
      ],
      "text/plain": [
       "        age  sex  on_thyroxine  query_on_thyroxine  on_antithyroid_medication  \\\n",
       "0      42.0  1.0           0.0                 0.0                        0.0   \n",
       "1      24.0  1.0           0.0                 0.0                        0.0   \n",
       "2      47.0  0.0           0.0                 0.0                        0.0   \n",
       "3      71.0  1.0           1.0                 0.0                        0.0   \n",
       "4      71.0  1.0           0.0                 0.0                        0.0   \n",
       "...     ...  ...           ...                 ...                        ...   \n",
       "13915  47.0  1.0           0.0                 0.0                        0.0   \n",
       "13916  42.0  0.0           0.0                 0.0                        0.0   \n",
       "13917  47.0  1.0           0.0                 0.0                        0.0   \n",
       "13918  42.0  0.0           0.0                 0.0                        0.0   \n",
       "13919  47.0  1.0           0.0                 0.0                        0.0   \n",
       "\n",
       "       sick  pregnant  thyroid_surgery  I131_treatment  query_hypothyroid  \\\n",
       "0       0.0       0.0              0.0             0.0                0.0   \n",
       "1       0.0       0.0              0.0             0.0                0.0   \n",
       "2       0.0       0.0              0.0             0.0                0.0   \n",
       "3       0.0       0.0              0.0             0.0                0.0   \n",
       "4       0.0       0.0              0.0             0.0                0.0   \n",
       "...     ...       ...              ...             ...                ...   \n",
       "13915   0.0       0.0              0.0             0.0                0.0   \n",
       "13916   0.0       0.0              0.0             0.0                1.0   \n",
       "13917   0.0       0.0              0.0             0.0                0.0   \n",
       "13918   0.0       0.0              0.0             0.0                1.0   \n",
       "13919   0.0       0.0              0.0             0.0                0.0   \n",
       "\n",
       "       ...  psych   T3    TT4  T4U    FTI  referral_source_STMW  \\\n",
       "0      ...    0.0  3.0  126.0  2.0  110.0                   0.0   \n",
       "1      ...    0.0  3.0  103.0  2.0  109.0                   0.0   \n",
       "2      ...    0.0  3.0  110.0  2.0  121.0                   0.0   \n",
       "3      ...    0.0  3.0  176.0  2.0  178.0                   0.0   \n",
       "4      ...    0.0  2.0   62.0  2.0   71.0                   0.0   \n",
       "...    ...    ...  ...    ...  ...    ...                   ...   \n",
       "13915  ...    0.0  2.0   49.0  2.0   55.0                   0.0   \n",
       "13916  ...    0.0  3.0   23.0  2.0   58.0                   0.0   \n",
       "13917  ...    0.0  2.0   49.0  2.0   55.0                   0.0   \n",
       "13918  ...    0.0  3.0   23.0  2.0   58.0                   0.0   \n",
       "13919  ...    0.0  2.0   49.0  2.0   55.0                   0.0   \n",
       "\n",
       "       referral_source_SVHC  referral_source_SVHD  referral_source_SVI  \\\n",
       "0                       1.0                   0.0                  0.0   \n",
       "1                       0.0                   0.0                  0.0   \n",
       "2                       0.0                   0.0                  0.0   \n",
       "3                       0.0                   0.0                  0.0   \n",
       "4                       0.0                   0.0                  1.0   \n",
       "...                     ...                   ...                  ...   \n",
       "13915                   0.0                   0.0                  0.0   \n",
       "13916                   0.0                   0.0                  0.0   \n",
       "13917                   0.0                   0.0                  0.0   \n",
       "13918                   0.0                   0.0                  0.0   \n",
       "13919                   0.0                   0.0                  0.0   \n",
       "\n",
       "       referral_source_other  \n",
       "0                        0.0  \n",
       "1                        1.0  \n",
       "2                        1.0  \n",
       "3                        1.0  \n",
       "4                        0.0  \n",
       "...                      ...  \n",
       "13915                    1.0  \n",
       "13916                    1.0  \n",
       "13917                    1.0  \n",
       "13918                    1.0  \n",
       "13919                    1.0  \n",
       "\n",
       "[13920 rows x 25 columns]"
      ]
     },
     "execution_count": 39,
     "metadata": {},
     "output_type": "execute_result"
    }
   ],
   "source": [
    "x_sampled"
   ]
  },
  {
   "cell_type": "code",
   "execution_count": 40,
   "metadata": {
    "colab": {
     "base_uri": "https://localhost:8080/"
    },
    "id": "7E-s57IIa5mj",
    "outputId": "97d857b4-6567-4499-a023-c83ff9eca4a2"
   },
   "outputs": [
    {
     "data": {
      "text/plain": [
       "0        1.0\n",
       "1        1.0\n",
       "2        1.0\n",
       "3        1.0\n",
       "4        1.0\n",
       "        ... \n",
       "13915    3.0\n",
       "13916    3.0\n",
       "13917    3.0\n",
       "13918    3.0\n",
       "13919    3.0\n",
       "Name: Class, Length: 13920, dtype: float64"
      ]
     },
     "execution_count": 40,
     "metadata": {},
     "output_type": "execute_result"
    }
   ],
   "source": [
    "y_sampled"
   ]
  },
  {
   "cell_type": "code",
   "execution_count": 41,
   "metadata": {
    "colab": {
     "base_uri": "https://localhost:8080/",
     "height": 302
    },
    "id": "ETgslKWHZaWT",
    "outputId": "2baadd4b-7a97-4eb8-daf1-fd7d541b5b37"
   },
   "outputs": [
    {
     "data": {
      "text/plain": [
       "<AxesSubplot:xlabel='Class', ylabel='count'>"
      ]
     },
     "execution_count": 41,
     "metadata": {},
     "output_type": "execute_result"
    },
    {
     "data": {
      "image/png": "[encoded data removed]",
      "text/plain": [
       "<Figure size 432x288 with 1 Axes>"
      ]
     },
     "metadata": {},
     "output_type": "display_data"
    }
   ],
   "source": [
    "sns.countplot(y_sampled)"
   ]
  },
  {
   "cell_type": "markdown",
   "metadata": {
    "id": "7HzujUtvZeox"
   },
   "source": [
    "Our dataset looks balanced now. We can go ahead with training our model on this data."
   ]
  },
  {
   "cell_type": "markdown",
   "metadata": {},
   "source": [
    "Splitting dataset into train and test set"
   ]
  },
  {
   "cell_type": "code",
   "execution_count": 42,
   "metadata": {},
   "outputs": [],
   "source": [
    "from sklearn.model_selection import train_test_split\n",
    "X_train, X_test, y_train, y_test = train_test_split(x_sampled, y_sampled,train_size=0.8,random_state=1)"
   ]
  },
  {
   "cell_type": "markdown",
   "metadata": {},
   "source": [
    "Categorical Naive Bayes"
   ]
  },
  {
   "cell_type": "code",
   "execution_count": 43,
   "metadata": {},
   "outputs": [
    {
     "name": "stdout",
     "output_type": "stream",
     "text": [
      "0.9019396551724138\n"
     ]
    }
   ],
   "source": [
    "from sklearn.naive_bayes import CategoricalNB\n",
    "cnb = CategoricalNB().fit(X_train, y_train)\n",
    "cnb_predictions = cnb.predict(X_test)\n",
    "accuracy = cnb.score(X_test, y_test)\n",
    "print(accuracy)"
   ]
  },
  {
   "cell_type": "markdown",
   "metadata": {},
   "source": [
    "A confusion matrix is a way to express how many of a classifier’s predictions were correct, and when incorrect. \n",
    "A classification report is a performance evaluation metric in machine learning. It is used to show the precision, recall, F1 Score, and support of the trained classification model.\n",
    "\n",
    ">Precision is defined as the ratio of true positives to the sum of true and false positives.\n",
    ">Recall is defined as the ratio of true positives to the sum of true positives and false negatives.\n",
    ">The F1 is the weighted harmonic mean of precision and recall. The closer the value of the F1 score is to 1.0, the better the expected performance of the model is.\n",
    ">Support is the number of actual occurrences of the class in the dataset. It doesn’t vary between models, it just diagnoses the performance evaluation process."
   ]
  },
  {
   "cell_type": "code",
   "execution_count": 44,
   "metadata": {},
   "outputs": [
    {
     "name": "stdout",
     "output_type": "stream",
     "text": [
      "Confusion Matrix: \n",
      "\n",
      " [[598  95   0   0]\n",
      " [163 513   9   1]\n",
      " [  5   0 690   0]\n",
      " [  0   0   0 710]]\n",
      "\n",
      " Classification Report:\n",
      "               precision    recall  f1-score   support\n",
      "\n",
      "         0.0       0.78      0.86      0.82       693\n",
      "         1.0       0.84      0.75      0.79       686\n",
      "         2.0       0.99      0.99      0.99       695\n",
      "         3.0       1.00      1.00      1.00       710\n",
      "\n",
      "    accuracy                           0.90      2784\n",
      "   macro avg       0.90      0.90      0.90      2784\n",
      "weighted avg       0.90      0.90      0.90      2784\n",
      "\n"
     ]
    }
   ],
   "source": [
    "from sklearn.metrics import confusion_matrix\n",
    "print(\"Confusion Matrix: \\n\\n\",confusion_matrix(y_test, cnb_predictions))\n",
    "from sklearn.metrics import classification_report\n",
    "print(\"\\n Classification Report:\\n\",classification_report(y_test, cnb_predictions))"
   ]
  },
  {
   "cell_type": "markdown",
   "metadata": {},
   "source": [
    "Decision Tree"
   ]
  },
  {
   "cell_type": "code",
   "execution_count": 45,
   "metadata": {},
   "outputs": [
    {
     "name": "stdout",
     "output_type": "stream",
     "text": [
      "Accuracy for {}: 1 0.5025143678160919\n",
      "Accuracy for {}: 2 0.7783764367816092\n",
      "Accuracy for {}: 3 0.8239942528735632\n",
      "Accuracy for {}: 4 0.8394396551724138\n",
      "Accuracy for {}: 5 0.8588362068965517\n",
      "Accuracy for {}: 6 0.860632183908046\n",
      "Accuracy for {}: 7 0.8588362068965517\n",
      "Accuracy for {}: 8 0.8584770114942529\n",
      "Accuracy for {}: 9 0.8602729885057471\n",
      "Accuracy for {}: 10 0.8983477011494253\n",
      "Accuracy for {}: 11 0.913433908045977\n",
      "Accuracy for {}: 12 0.9069683908045977\n",
      "Accuracy for {}: 13 0.9281609195402298\n",
      "Accuracy for {}: 14 0.9396551724137931\n",
      "Accuracy for {}: 15 0.9457614942528736\n",
      "Accuracy for {}: 16 0.951867816091954\n",
      "Accuracy for {}: 17 0.9594109195402298\n",
      "Accuracy for {}: 18 0.9608477011494253\n",
      "Accuracy for {}: 19 0.9694683908045977\n",
      "Accuracy for {}: 20 0.9741379310344828\n",
      "Accuracy for {}: 21 0.9723419540229885\n",
      "Accuracy for {}: 22 0.9766522988505747\n",
      "Accuracy for {}: 23 0.978448275862069\n",
      "Accuracy for {}: 24 0.9773706896551724\n",
      "Accuracy for {}: 25 0.9773706896551724\n",
      "Accuracy for {}: 26 0.9788074712643678\n",
      "Accuracy for {}: 27 0.9795258620689655\n",
      "Accuracy for {}: 28 0.9791666666666666\n",
      "Accuracy for {}: 29 0.9795258620689655\n",
      "Accuracy for {}: 30 0.9795258620689655\n",
      "Accuracy for {}: 31 0.9795258620689655\n",
      "Accuracy for {}: 32 0.9802442528735632\n",
      "Accuracy for {}: 33 0.9798850574712644\n",
      "Accuracy for {}: 34 0.9802442528735632\n",
      "Accuracy for {}: 35 0.9802442528735632\n"
     ]
    }
   ],
   "source": [
    "from sklearn import metrics\n",
    "from sklearn import tree\n",
    "from sklearn.tree import DecisionTreeClassifier\n",
    "from matplotlib import pyplot as plt\n",
    "for i in range(1,36):\n",
    "    dtree = tree.DecisionTreeClassifier(random_state=0,max_depth=i)\n",
    "    dtree=dtree.fit(X_train,y_train)\n",
    "    y_pred=dtree.predict(X_test)\n",
    "    print(\"Accuracy for {}:\",i,metrics.accuracy_score(y_test, y_pred))  "
   ]
  },
  {
   "cell_type": "code",
   "execution_count": 46,
   "metadata": {},
   "outputs": [],
   "source": [
    "\n",
    "dtree = tree.DecisionTreeClassifier(random_state=0,max_depth=36)\n",
    "dtree=dtree.fit(X_train,y_train)\n",
    "y_pred=dtree.predict(X_test)\n",
    "#tree.plot_tree(dtree)\n",
    "#plt.show()"
   ]
  },
  {
   "cell_type": "code",
   "execution_count": 47,
   "metadata": {},
   "outputs": [
    {
     "name": "stdout",
     "output_type": "stream",
     "text": [
      "Accuracy: 0.9802442528735632\n"
     ]
    }
   ],
   "source": [
    "from sklearn import metrics\n",
    "print(\"Accuracy:\",metrics.accuracy_score(y_test, y_pred))"
   ]
  },
  {
   "cell_type": "code",
   "execution_count": 48,
   "metadata": {},
   "outputs": [
    {
     "name": "stdout",
     "output_type": "stream",
     "text": [
      "Confusion Matrix:\n",
      " [[693   0   0   0]\n",
      " [ 45 631  10   0]\n",
      " [  0   0 695   0]\n",
      " [  0   0   0 710]]\n",
      "\n",
      "Classification Report:\n",
      "               precision    recall  f1-score   support\n",
      "\n",
      "         0.0       0.94      1.00      0.97       693\n",
      "         1.0       1.00      0.92      0.96       686\n",
      "         2.0       0.99      1.00      0.99       695\n",
      "         3.0       1.00      1.00      1.00       710\n",
      "\n",
      "    accuracy                           0.98      2784\n",
      "   macro avg       0.98      0.98      0.98      2784\n",
      "weighted avg       0.98      0.98      0.98      2784\n",
      "\n"
     ]
    }
   ],
   "source": [
    "from sklearn.metrics import confusion_matrix\n",
    "confusion_matrix = confusion_matrix(y_test, y_pred)\n",
    "print(\"Confusion Matrix:\\n\",confusion_matrix)\n",
    "from sklearn.metrics import classification_report\n",
    "print(\"\\nClassification Report:\\n\",classification_report(y_test, y_pred))"
   ]
  },
  {
   "cell_type": "markdown",
   "metadata": {},
   "source": [
    "KNN"
   ]
  },
  {
   "cell_type": "code",
   "execution_count": 49,
   "metadata": {},
   "outputs": [
    {
     "data": {
      "text/plain": [
       "Text(0, 0.5, 'Error Rate')"
      ]
     },
     "execution_count": 49,
     "metadata": {},
     "output_type": "execute_result"
    },
    {
     "data": {
      "image/png": "[encoded data removed]",
      "text/plain": [
       "<Figure size 720x432 with 1 Axes>"
      ]
     },
     "metadata": {},
     "output_type": "display_data"
    }
   ],
   "source": [
    "from sklearn.neighbors import KNeighborsClassifier\n",
    "error_rate = []\n",
    "\n",
    "for i in range(1,10):\n",
    "\n",
    "    knn = KNeighborsClassifier(n_neighbors=i)\n",
    "    knn.fit(X_train,y_train)\n",
    "    pred_i = knn.predict(X_test)\n",
    "    error_rate.append(np.mean(pred_i != y_test))\n",
    "\n",
    "plt.figure(figsize=(10,6))\n",
    "plt.plot(range(1,10),error_rate,color='black', marker='o',\n",
    "         markerfacecolor='red', markersize=10)\n",
    "plt.title('Error Rate vs. K Value')\n",
    "plt.xlabel('K')\n",
    "plt.ylabel('Error Rate')"
   ]
  },
  {
   "cell_type": "code",
   "execution_count": 50,
   "metadata": {},
   "outputs": [
    {
     "name": "stdout",
     "output_type": "stream",
     "text": [
      "Accuracy: 0.9723419540229885\n",
      "Confusion Matrix:\n",
      " [[693   0   0   0]\n",
      " [ 70 609   7   0]\n",
      " [  0   0 695   0]\n",
      " [  0   0   0 710]]\n",
      "Classification Report:\n",
      "               precision    recall  f1-score   support\n",
      "\n",
      "         0.0       0.91      1.00      0.95       693\n",
      "         1.0       1.00      0.89      0.94       686\n",
      "         2.0       0.99      1.00      0.99       695\n",
      "         3.0       1.00      1.00      1.00       710\n",
      "\n",
      "    accuracy                           0.97      2784\n",
      "   macro avg       0.97      0.97      0.97      2784\n",
      "weighted avg       0.97      0.97      0.97      2784\n",
      "\n"
     ]
    }
   ],
   "source": [
    "from sklearn.metrics import confusion_matrix\n",
    "knn = KNeighborsClassifier(n_neighbors=2, metric='euclidean')\n",
    "knn.fit(X_train, y_train)\n",
    "y_pred = knn.predict(X_test)\n",
    "confusion_matrix = confusion_matrix(y_test, y_pred)\n",
    "print(\"Accuracy:\",metrics.accuracy_score(y_test, y_pred))\n",
    "print(\"Confusion Matrix:\\n\",confusion_matrix)\n",
    "print(\"Classification Report:\\n\",classification_report(y_test, y_pred))"
   ]
  },
  {
   "cell_type": "markdown",
   "metadata": {},
   "source": [
    "Random Forest"
   ]
  },
  {
   "cell_type": "code",
   "execution_count": 51,
   "metadata": {},
   "outputs": [
    {
     "name": "stdout",
     "output_type": "stream",
     "text": [
      "Accuracy: 0.9895833333333334\n"
     ]
    }
   ],
   "source": [
    "from sklearn.ensemble import RandomForestClassifier\n",
    "from sklearn import metrics\n",
    "rt=RandomForestClassifier(n_estimators=100)\n",
    "rt.fit(X_train,y_train)\n",
    "y_pred=rt.predict(X_test)\n",
    "print(\"Accuracy:\",metrics.accuracy_score(y_test, y_pred))"
   ]
  },
  {
   "cell_type": "code",
   "execution_count": 52,
   "metadata": {},
   "outputs": [
    {
     "name": "stdout",
     "output_type": "stream",
     "text": [
      "Confusion Matrix:\n",
      " [[693   0   0   0]\n",
      " [ 20 657   9   0]\n",
      " [  0   0 695   0]\n",
      " [  0   0   0 710]]\n",
      "\n",
      "Classification Report:\n",
      "               precision    recall  f1-score   support\n",
      "\n",
      "         0.0       0.97      1.00      0.99       693\n",
      "         1.0       1.00      0.96      0.98       686\n",
      "         2.0       0.99      1.00      0.99       695\n",
      "         3.0       1.00      1.00      1.00       710\n",
      "\n",
      "    accuracy                           0.99      2784\n",
      "   macro avg       0.99      0.99      0.99      2784\n",
      "weighted avg       0.99      0.99      0.99      2784\n",
      "\n"
     ]
    }
   ],
   "source": [
    "from sklearn.metrics import confusion_matrix\n",
    "confusion_matrix = confusion_matrix(y_test, y_pred)\n",
    "print(\"Confusion Matrix:\\n\",confusion_matrix)\n",
    "from sklearn.metrics import classification_report\n",
    "print(\"\\nClassification Report:\\n\",classification_report(y_test, y_pred))"
   ]
  },
  {
   "cell_type": "markdown",
   "metadata": {},
   "source": [
    "SVM"
   ]
  },
  {
   "cell_type": "code",
   "execution_count": 53,
   "metadata": {},
   "outputs": [
    {
     "name": "stdout",
     "output_type": "stream",
     "text": [
      "Confusion Matrix:\n",
      " [[477 176  40   0]\n",
      " [215 442  29   0]\n",
      " [ 14  13 665   3]\n",
      " [  0   0   0 710]]\n",
      "Classification Report:\n",
      "               precision    recall  f1-score   support\n",
      "\n",
      "         0.0       0.68      0.69      0.68       693\n",
      "         1.0       0.70      0.64      0.67       686\n",
      "         2.0       0.91      0.96      0.93       695\n",
      "         3.0       1.00      1.00      1.00       710\n",
      "\n",
      "    accuracy                           0.82      2784\n",
      "   macro avg       0.82      0.82      0.82      2784\n",
      "weighted avg       0.82      0.82      0.82      2784\n",
      "\n",
      "Accuracy: 0.8239942528735632\n"
     ]
    }
   ],
   "source": [
    "from sklearn.metrics import confusion_matrix\n",
    "from sklearn import svm\n",
    "from sklearn.svm import SVC\n",
    "svclassifier = svm.SVC(kernel='linear',probability=True,decision_function_shape='ovr')\n",
    "svclassifier.fit(X_train, y_train)\n",
    "y_pred = svclassifier.predict(X_test)\n",
    "confusion_matrix = confusion_matrix(y_test,y_pred)\n",
    "print(\"Confusion Matrix:\\n\",confusion_matrix)\n",
    "print(\"Classification Report:\\n\",classification_report(y_test,y_pred))\n",
    "print(\"Accuracy:\",metrics.accuracy_score(y_test, y_pred))"
   ]
  },
  {
   "cell_type": "code",
   "execution_count": 54,
   "metadata": {},
   "outputs": [
    {
     "data": {
      "text/plain": [
       "(11136, 25)"
      ]
     },
     "execution_count": 54,
     "metadata": {},
     "output_type": "execute_result"
    }
   ],
   "source": [
    "X_train.shape"
   ]
  },
  {
   "cell_type": "markdown",
   "metadata": {},
   "source": [
    "ANN"
   ]
  },
  {
   "cell_type": "code",
   "execution_count": 116,
   "metadata": {},
   "outputs": [
    {
     "name": "stdout",
     "output_type": "stream",
     "text": [
      "Epoch 1/100\n",
      "56/56 [==============================] - 0s 2ms/step - loss: 0.2916 - accuracy: 0.8535\n",
      "Epoch 2/100\n",
      "56/56 [==============================] - 0s 2ms/step - loss: 0.2933 - accuracy: 0.8536\n",
      "Epoch 3/100\n",
      "56/56 [==============================] - 0s 2ms/step - loss: 0.2941 - accuracy: 0.8518\n",
      "Epoch 4/100\n",
      "56/56 [==============================] - 0s 1ms/step - loss: 0.2924 - accuracy: 0.8539\n",
      "Epoch 5/100\n",
      "56/56 [==============================] - 0s 2ms/step - loss: 0.2919 - accuracy: 0.8534\n",
      "Epoch 6/100\n",
      "56/56 [==============================] - 0s 2ms/step - loss: 0.2925 - accuracy: 0.8517\n",
      "Epoch 7/100\n",
      "56/56 [==============================] - 0s 2ms/step - loss: 0.2936 - accuracy: 0.8509\n",
      "Epoch 8/100\n",
      "56/56 [==============================] - 0s 2ms/step - loss: 0.2937 - accuracy: 0.8525\n",
      "Epoch 9/100\n",
      "56/56 [==============================] - 0s 2ms/step - loss: 0.2948 - accuracy: 0.8490\n",
      "Epoch 10/100\n",
      "56/56 [==============================] - 0s 2ms/step - loss: 0.2923 - accuracy: 0.8523\n",
      "Epoch 11/100\n",
      "56/56 [==============================] - 0s 2ms/step - loss: 0.2918 - accuracy: 0.8528\n",
      "Epoch 12/100\n",
      "56/56 [==============================] - 0s 2ms/step - loss: 0.2929 - accuracy: 0.8540\n",
      "Epoch 13/100\n",
      "56/56 [==============================] - 0s 2ms/step - loss: 0.2931 - accuracy: 0.8508\n",
      "Epoch 14/100\n",
      "56/56 [==============================] - 0s 2ms/step - loss: 0.2912 - accuracy: 0.8555\n",
      "Epoch 15/100\n",
      "56/56 [==============================] - 0s 2ms/step - loss: 0.2926 - accuracy: 0.8531\n",
      "Epoch 16/100\n",
      "56/56 [==============================] - 0s 2ms/step - loss: 0.2927 - accuracy: 0.8541\n",
      "Epoch 17/100\n",
      "56/56 [==============================] - 0s 2ms/step - loss: 0.2959 - accuracy: 0.8488\n",
      "Epoch 18/100\n",
      "56/56 [==============================] - 0s 2ms/step - loss: 0.2935 - accuracy: 0.8530\n",
      "Epoch 19/100\n",
      "56/56 [==============================] - 0s 2ms/step - loss: 0.2930 - accuracy: 0.8540\n",
      "Epoch 20/100\n",
      "56/56 [==============================] - 0s 2ms/step - loss: 0.2929 - accuracy: 0.8524\n",
      "Epoch 21/100\n",
      "56/56 [==============================] - 0s 2ms/step - loss: 0.2935 - accuracy: 0.8526\n",
      "Epoch 22/100\n",
      "56/56 [==============================] - 0s 2ms/step - loss: 0.2905 - accuracy: 0.8516\n",
      "Epoch 23/100\n",
      "56/56 [==============================] - 0s 2ms/step - loss: 0.2928 - accuracy: 0.8509\n",
      "Epoch 24/100\n",
      "56/56 [==============================] - 0s 2ms/step - loss: 0.2921 - accuracy: 0.8531\n",
      "Epoch 25/100\n",
      "56/56 [==============================] - 0s 2ms/step - loss: 0.2958 - accuracy: 0.8492\n",
      "Epoch 26/100\n",
      "56/56 [==============================] - 0s 2ms/step - loss: 0.2949 - accuracy: 0.8498\n",
      "Epoch 27/100\n",
      "56/56 [==============================] - 0s 2ms/step - loss: 0.2947 - accuracy: 0.8512\n",
      "Epoch 28/100\n",
      "56/56 [==============================] - 0s 2ms/step - loss: 0.2950 - accuracy: 0.8517\n",
      "Epoch 29/100\n",
      "56/56 [==============================] - 0s 2ms/step - loss: 0.2933 - accuracy: 0.8523\n",
      "Epoch 30/100\n",
      "56/56 [==============================] - 0s 3ms/step - loss: 0.2923 - accuracy: 0.8525\n",
      "Epoch 31/100\n",
      "56/56 [==============================] - 0s 2ms/step - loss: 0.2920 - accuracy: 0.8533\n",
      "Epoch 32/100\n",
      "56/56 [==============================] - 0s 2ms/step - loss: 0.2932 - accuracy: 0.8527\n",
      "Epoch 33/100\n",
      "56/56 [==============================] - 0s 2ms/step - loss: 0.2911 - accuracy: 0.8532\n",
      "Epoch 34/100\n",
      "56/56 [==============================] - 0s 2ms/step - loss: 0.2924 - accuracy: 0.8525\n",
      "Epoch 35/100\n",
      "56/56 [==============================] - 0s 2ms/step - loss: 0.2929 - accuracy: 0.8516\n",
      "Epoch 36/100\n",
      "56/56 [==============================] - 0s 3ms/step - loss: 0.2911 - accuracy: 0.8545\n",
      "Epoch 37/100\n",
      "56/56 [==============================] - 0s 2ms/step - loss: 0.2915 - accuracy: 0.8529\n",
      "Epoch 38/100\n",
      "56/56 [==============================] - 0s 2ms/step - loss: 0.2931 - accuracy: 0.8546\n",
      "Epoch 39/100\n",
      "56/56 [==============================] - 0s 2ms/step - loss: 0.2940 - accuracy: 0.8526\n",
      "Epoch 40/100\n",
      "56/56 [==============================] - 0s 2ms/step - loss: 0.2919 - accuracy: 0.8541\n",
      "Epoch 41/100\n",
      "56/56 [==============================] - 0s 2ms/step - loss: 0.2920 - accuracy: 0.8514\n",
      "Epoch 42/100\n",
      "56/56 [==============================] - 0s 2ms/step - loss: 0.2917 - accuracy: 0.8542\n",
      "Epoch 43/100\n",
      "56/56 [==============================] - 0s 2ms/step - loss: 0.2924 - accuracy: 0.8531\n",
      "Epoch 44/100\n",
      "56/56 [==============================] - 0s 2ms/step - loss: 0.2921 - accuracy: 0.8533\n",
      "Epoch 45/100\n",
      "56/56 [==============================] - 0s 2ms/step - loss: 0.2902 - accuracy: 0.8552\n",
      "Epoch 46/100\n",
      "56/56 [==============================] - 0s 2ms/step - loss: 0.2914 - accuracy: 0.8519\n",
      "Epoch 47/100\n",
      "56/56 [==============================] - 0s 2ms/step - loss: 0.2924 - accuracy: 0.8558\n",
      "Epoch 48/100\n",
      "56/56 [==============================] - 0s 2ms/step - loss: 0.2942 - accuracy: 0.8516\n",
      "Epoch 49/100\n",
      "56/56 [==============================] - 0s 2ms/step - loss: 0.2914 - accuracy: 0.8530\n",
      "Epoch 50/100\n",
      "56/56 [==============================] - 0s 2ms/step - loss: 0.2902 - accuracy: 0.8543\n",
      "Epoch 51/100\n",
      "56/56 [==============================] - 0s 2ms/step - loss: 0.2904 - accuracy: 0.8541\n",
      "Epoch 52/100\n",
      "56/56 [==============================] - 0s 2ms/step - loss: 0.2923 - accuracy: 0.8516\n",
      "Epoch 53/100\n",
      "56/56 [==============================] - 0s 2ms/step - loss: 0.2910 - accuracy: 0.8531\n",
      "Epoch 54/100\n",
      "56/56 [==============================] - 0s 2ms/step - loss: 0.2906 - accuracy: 0.8549\n",
      "Epoch 55/100\n",
      "56/56 [==============================] - 0s 2ms/step - loss: 0.2928 - accuracy: 0.8515\n",
      "Epoch 56/100\n",
      "56/56 [==============================] - 0s 2ms/step - loss: 0.2908 - accuracy: 0.8533\n",
      "Epoch 57/100\n",
      "56/56 [==============================] - 0s 2ms/step - loss: 0.2922 - accuracy: 0.8546\n",
      "Epoch 58/100\n",
      "56/56 [==============================] - 0s 2ms/step - loss: 0.2936 - accuracy: 0.8509\n",
      "Epoch 59/100\n",
      "56/56 [==============================] - 0s 2ms/step - loss: 0.2953 - accuracy: 0.8486\n",
      "Epoch 60/100\n",
      "56/56 [==============================] - 0s 2ms/step - loss: 0.2941 - accuracy: 0.8492\n",
      "Epoch 61/100\n",
      "56/56 [==============================] - 0s 2ms/step - loss: 0.2913 - accuracy: 0.8549\n",
      "Epoch 62/100\n",
      "56/56 [==============================] - 0s 2ms/step - loss: 0.2926 - accuracy: 0.8541\n",
      "Epoch 63/100\n",
      "56/56 [==============================] - 0s 2ms/step - loss: 0.2910 - accuracy: 0.8546\n",
      "Epoch 64/100\n",
      "56/56 [==============================] - 0s 2ms/step - loss: 0.2907 - accuracy: 0.8550\n",
      "Epoch 65/100\n",
      "56/56 [==============================] - 0s 2ms/step - loss: 0.2929 - accuracy: 0.8526\n",
      "Epoch 66/100\n",
      "56/56 [==============================] - 0s 2ms/step - loss: 0.2905 - accuracy: 0.8553\n",
      "Epoch 67/100\n",
      "56/56 [==============================] - 0s 2ms/step - loss: 0.2915 - accuracy: 0.8500\n",
      "Epoch 68/100\n",
      "56/56 [==============================] - 0s 2ms/step - loss: 0.2921 - accuracy: 0.8543\n",
      "Epoch 69/100\n",
      "56/56 [==============================] - 0s 2ms/step - loss: 0.2917 - accuracy: 0.8535\n",
      "Epoch 70/100\n",
      "56/56 [==============================] - 0s 2ms/step - loss: 0.2922 - accuracy: 0.8534\n",
      "Epoch 71/100\n",
      "56/56 [==============================] - 0s 2ms/step - loss: 0.2915 - accuracy: 0.8534\n",
      "Epoch 72/100\n",
      "56/56 [==============================] - 0s 2ms/step - loss: 0.2927 - accuracy: 0.8518\n",
      "Epoch 73/100\n",
      "56/56 [==============================] - 0s 2ms/step - loss: 0.2904 - accuracy: 0.8538\n",
      "Epoch 74/100\n",
      "56/56 [==============================] - 0s 2ms/step - loss: 0.2908 - accuracy: 0.8535\n",
      "Epoch 75/100\n",
      "56/56 [==============================] - 0s 2ms/step - loss: 0.2913 - accuracy: 0.8528\n",
      "Epoch 76/100\n",
      "56/56 [==============================] - 0s 2ms/step - loss: 0.2906 - accuracy: 0.8516\n",
      "Epoch 77/100\n",
      "56/56 [==============================] - 0s 2ms/step - loss: 0.2940 - accuracy: 0.8517\n",
      "Epoch 78/100\n",
      "56/56 [==============================] - 0s 2ms/step - loss: 0.2913 - accuracy: 0.8530\n",
      "Epoch 79/100\n",
      "56/56 [==============================] - 0s 2ms/step - loss: 0.2940 - accuracy: 0.8525\n",
      "Epoch 80/100\n",
      "56/56 [==============================] - 0s 2ms/step - loss: 0.2907 - accuracy: 0.8540\n",
      "Epoch 81/100\n",
      "56/56 [==============================] - 0s 2ms/step - loss: 0.2915 - accuracy: 0.8515\n",
      "Epoch 82/100\n",
      "56/56 [==============================] - 0s 2ms/step - loss: 0.2911 - accuracy: 0.8529\n",
      "Epoch 83/100\n",
      "56/56 [==============================] - 0s 2ms/step - loss: 0.2934 - accuracy: 0.8526\n",
      "Epoch 84/100\n",
      "56/56 [==============================] - 0s 2ms/step - loss: 0.2912 - accuracy: 0.8534\n",
      "Epoch 85/100\n",
      "56/56 [==============================] - 0s 2ms/step - loss: 0.2920 - accuracy: 0.8518\n",
      "Epoch 86/100\n",
      "56/56 [==============================] - 0s 2ms/step - loss: 0.2900 - accuracy: 0.8517\n",
      "Epoch 87/100\n",
      "56/56 [==============================] - 0s 2ms/step - loss: 0.2912 - accuracy: 0.8543\n",
      "Epoch 88/100\n",
      "56/56 [==============================] - 0s 2ms/step - loss: 0.2927 - accuracy: 0.8536\n",
      "Epoch 89/100\n",
      "56/56 [==============================] - 0s 2ms/step - loss: 0.2922 - accuracy: 0.8543\n",
      "Epoch 90/100\n",
      "56/56 [==============================] - 0s 2ms/step - loss: 0.2940 - accuracy: 0.8505\n",
      "Epoch 91/100\n",
      "56/56 [==============================] - 0s 2ms/step - loss: 0.2914 - accuracy: 0.8516\n",
      "Epoch 92/100\n",
      "56/56 [==============================] - 0s 2ms/step - loss: 0.2926 - accuracy: 0.8540\n",
      "Epoch 93/100\n",
      "56/56 [==============================] - 0s 2ms/step - loss: 0.2896 - accuracy: 0.8536\n",
      "Epoch 94/100\n",
      "56/56 [==============================] - 0s 2ms/step - loss: 0.2904 - accuracy: 0.8557\n",
      "Epoch 95/100\n",
      "56/56 [==============================] - 0s 2ms/step - loss: 0.2909 - accuracy: 0.8555\n",
      "Epoch 96/100\n",
      "56/56 [==============================] - 0s 2ms/step - loss: 0.2904 - accuracy: 0.8534\n",
      "Epoch 97/100\n",
      "56/56 [==============================] - 0s 2ms/step - loss: 0.2900 - accuracy: 0.8528\n",
      "Epoch 98/100\n",
      "56/56 [==============================] - 0s 2ms/step - loss: 0.2945 - accuracy: 0.8492\n",
      "Epoch 99/100\n",
      "56/56 [==============================] - 0s 2ms/step - loss: 0.2913 - accuracy: 0.8521\n",
      "Epoch 100/100\n",
      "56/56 [==============================] - 0s 2ms/step - loss: 0.2885 - accuracy: 0.8552\n"
     ]
    },
    {
     "data": {
      "text/plain": [
       "<keras.callbacks.History at 0x1cae1e99400>"
      ]
     },
     "execution_count": 116,
     "metadata": {},
     "output_type": "execute_result"
    }
   ],
   "source": [
    "import keras\n",
    "from keras.models import Sequential\n",
    "from keras.layers import Dense,Dropout\n",
    "\n",
    "# Initialising the ANN\n",
    "# Initialising the ANN\n",
    "model=Sequential()\n",
    "model.add(Dense(1000,input_dim=25,activation='relu'))\n",
    "model.add(Dense(500,activation='relu'))\n",
    "model.add(Dense(300,activation='relu'))\n",
    "model.add(Dropout(0.2))\n",
    "model.add(Dense(3,activation='softmax'))\n",
    "model.compile(loss='categorical_crossentropy',optimizer='adam',metrics=['accuracy'])\n",
    "classifier.fit(X_train, y_train, batch_size =200 , epochs = 100,verbose=1)"
   ]
  },
  {
   "cell_type": "code",
   "execution_count": 117,
   "metadata": {},
   "outputs": [
    {
     "name": "stdout",
     "output_type": "stream",
     "text": [
      "Accuracy of the dataset 16.12787356321839\n"
     ]
    }
   ],
   "source": [
    "prediction=classifier.predict(X_test)\n",
    "length=len(prediction)\n",
    "y_label=np.argmax(y_test,axis=-1)\n",
    "predict_label=np.argmax(prediction,axis=-1)\n",
    "\n",
    "accuracy=np.sum(y_label==predict_label)/length * 100 \n",
    "\n",
    "print(\"Accuracy of the dataset\",accuracy )"
   ]
  },
  {
   "cell_type": "markdown",
   "metadata": {},
   "source": [
    "Ensemble Learning\n",
    ">Ensemble learning refers to a group (or ensemble) of base learners, or models, which work collectively to achieve a better final prediction. A single model, also known as a base or weak learner, may not perform well individually due to high variance or high bias. However, when weak learners are aggregated, they can form a strong learner, as their combination reduces bias or variance, yielding better model performance."
   ]
  },
  {
   "cell_type": "markdown",
   "metadata": {},
   "source": [
    ">Bagging\n",
    ">>Bagging, also known as bootstrap aggregation, is the ensemble learning method that is commonly used to reduce variance within a noisy dataset. In bagging, a random sample of data in a training set is selected with replacement—meaning that the individual data points can be chosen more than once. After several data samples are generated, these weak models are then trained independently, and depending on the type of task—regression or classification, for example—the average or majority of those predictions yield a more accurate estimate. "
   ]
  },
  {
   "cell_type": "code",
   "execution_count": 53,
   "metadata": {},
   "outputs": [
    {
     "name": "stdout",
     "output_type": "stream",
     "text": [
      "Accuracy for DecisionTreeClassifier(max_depth=36, random_state=0) : 0.9849137931034483\n",
      "Accuracy for CategoricalNB() : 0.9026580459770115\n",
      "Accuracy for KNeighborsClassifier(metric='euclidean', n_neighbors=2) : 0.9730603448275862\n",
      "Accuracy for RandomForestClassifier() : 0.9881465517241379\n"
     ]
    }
   ],
   "source": [
    "from sklearn.ensemble import BaggingClassifier\n",
    "arr=[dtree,cnb,knn,rt]\n",
    "for a in arr:\n",
    "    model = BaggingClassifier(base_estimator=a,n_estimators=10, random_state=1).fit(X_train, y_train)\n",
    "    y_pred = model.predict(X_test)\n",
    "    print(\"Accuracy for {} :\".format(a),metrics.accuracy_score(y_test, y_pred))\n"
   ]
  },
  {
   "cell_type": "markdown",
   "metadata": {},
   "source": [
    "We observe that bagging does not effect the accuracy of our models to a larger extent"
   ]
  },
  {
   "cell_type": "markdown",
   "metadata": {},
   "source": [
    ">Boosting\n",
    ">>Boosting is an ensemble modeling technique that attempts to build a strong classifier from the number of weak classifiers. It is done by building a model by using weak models in series. Firstly, a model is built from the training data. Then the second model is built which tries to correct the errors present in the first model. This procedure is continued and models are added until either the complete training data set is predicted correctly or the maximum number of models are added. "
   ]
  },
  {
   "cell_type": "code",
   "execution_count": 54,
   "metadata": {},
   "outputs": [
    {
     "name": "stdout",
     "output_type": "stream",
     "text": [
      "Accuracy for : 100 0.9173850574712644\n",
      "Accuracy for : 150 0.9436063218390804\n",
      "Accuracy for : 200 0.9533045977011494\n",
      "Accuracy for : 250 0.9583333333333334\n",
      "Accuracy for : 300 0.9619252873563219\n",
      "Accuracy for : 350 0.9651580459770115\n",
      "Accuracy for : 400 0.9683908045977011\n",
      "Accuracy for : 450 0.9716235632183908\n"
     ]
    }
   ],
   "source": [
    "from sklearn.ensemble import GradientBoostingClassifier\n",
    "for i in range (100,500,50):\n",
    "    model= GradientBoostingClassifier(n_estimators=i,random_state=1).fit(X_train, y_train)\n",
    "    y_pred = model.predict(X_test)\n",
    "    print(\"Accuracy for :\",i,metrics.accuracy_score(y_test, y_pred))"
   ]
  },
  {
   "cell_type": "code",
   "execution_count": 55,
   "metadata": {},
   "outputs": [
    {
     "name": "stdout",
     "output_type": "stream",
     "text": [
      "Accuracy for : 450 0.9716235632183908\n"
     ]
    }
   ],
   "source": [
    "model= GradientBoostingClassifier(n_estimators=450,random_state=1).fit(X_train, y_train)\n",
    "y_pred = model.predict(X_test)\n",
    "print(\"Accuracy for :\",i,metrics.accuracy_score(y_test, y_pred))"
   ]
  },
  {
   "cell_type": "code",
   "execution_count": 56,
   "metadata": {},
   "outputs": [
    {
     "name": "stdout",
     "output_type": "stream",
     "text": [
      "Confusion Matrix:\n",
      " [[693   0   0   0]\n",
      " [ 68 607  11   0]\n",
      " [  0   0 695   0]\n",
      " [  0   0   0 710]]\n",
      "\n",
      "Classification Report:\n",
      "               precision    recall  f1-score   support\n",
      "\n",
      "         0.0       0.91      1.00      0.95       693\n",
      "         1.0       1.00      0.88      0.94       686\n",
      "         2.0       0.98      1.00      0.99       695\n",
      "         3.0       1.00      1.00      1.00       710\n",
      "\n",
      "    accuracy                           0.97      2784\n",
      "   macro avg       0.97      0.97      0.97      2784\n",
      "weighted avg       0.97      0.97      0.97      2784\n",
      "\n"
     ]
    }
   ],
   "source": [
    "from sklearn.metrics import confusion_matrix\n",
    "confusion_matrix = confusion_matrix(y_test, y_pred)\n",
    "print(\"Confusion Matrix:\\n\",confusion_matrix)\n",
    "from sklearn.metrics import classification_report\n",
    "print(\"\\nClassification Report:\\n\",classification_report(y_test, y_pred))"
   ]
  },
  {
   "cell_type": "code",
   "execution_count": 57,
   "metadata": {},
   "outputs": [
    {
     "name": "stdout",
     "output_type": "stream",
     "text": [
      "Accuracy for: 100 0.9809626436781609\n",
      "Accuracy for: 150 0.9849137931034483\n",
      "Accuracy for: 200 0.9849137931034483\n",
      "Accuracy for: 250 0.9852729885057471\n",
      "Accuracy for: 300 0.9852729885057471\n",
      "Accuracy for: 350 0.9859913793103449\n",
      "Accuracy for: 400 0.9859913793103449\n",
      "Accuracy for: 450 0.9863505747126436\n"
     ]
    }
   ],
   "source": [
    "from xgboost import XGBClassifier\n",
    "for i in range(100,500,50):\n",
    "    model=XGBClassifier(n_estimators=i,random_state=1,eval_metric='mlogloss').fit(X_train, y_train)\n",
    "    y_pred = model.predict(X_test)\n",
    "    print(\"Accuracy for:\",i,metrics.accuracy_score(y_test, y_pred))"
   ]
  },
  {
   "cell_type": "code",
   "execution_count": 58,
   "metadata": {},
   "outputs": [
    {
     "name": "stdout",
     "output_type": "stream",
     "text": [
      "Accuracy for: 450 0.9859913793103449\n"
     ]
    }
   ],
   "source": [
    "model=XGBClassifier(n_estimators=400,random_state=1,eval_metric='mlogloss').fit(X_train, y_train)\n",
    "y_pred = model.predict(X_test)\n",
    "print(\"Accuracy for:\",i,metrics.accuracy_score(y_test, y_pred))"
   ]
  },
  {
   "cell_type": "code",
   "execution_count": 59,
   "metadata": {},
   "outputs": [
    {
     "name": "stdout",
     "output_type": "stream",
     "text": [
      "Confusion Matrix:\n",
      " [[693   0   0   0]\n",
      " [ 29 647  10   0]\n",
      " [  0   0 695   0]\n",
      " [  0   0   0 710]]\n",
      "\n",
      "Classification Report:\n",
      "               precision    recall  f1-score   support\n",
      "\n",
      "         0.0       0.96      1.00      0.98       693\n",
      "         1.0       1.00      0.94      0.97       686\n",
      "         2.0       0.99      1.00      0.99       695\n",
      "         3.0       1.00      1.00      1.00       710\n",
      "\n",
      "    accuracy                           0.99      2784\n",
      "   macro avg       0.99      0.99      0.99      2784\n",
      "weighted avg       0.99      0.99      0.99      2784\n",
      "\n"
     ]
    }
   ],
   "source": [
    "from sklearn.metrics import confusion_matrix\n",
    "confusion_matrix = confusion_matrix(y_test, y_pred)\n",
    "print(\"Confusion Matrix:\\n\",confusion_matrix)\n",
    "from sklearn.metrics import classification_report\n",
    "print(\"\\nClassification Report:\\n\",classification_report(y_test, y_pred))"
   ]
  },
  {
   "cell_type": "code",
   "execution_count": 60,
   "metadata": {},
   "outputs": [
    {
     "name": "stdout",
     "output_type": "stream",
     "text": [
      "Accuracy for: 100 0.9849137931034483\n",
      "Accuracy for: 150 0.9863505747126436\n",
      "Accuracy for: 200 0.9888649425287356\n",
      "Accuracy for: 250 0.9888649425287356\n",
      "Accuracy for: 300 0.9906609195402298\n",
      "Accuracy for: 350 0.9899425287356322\n",
      "Accuracy for: 400 0.9899425287356322\n",
      "Accuracy for: 450 0.9899425287356322\n"
     ]
    }
   ],
   "source": [
    "from lightgbm import LGBMClassifier\n",
    "for i in range(100,500,50):\n",
    "    model=LGBMClassifier(n_estimators=i,random_state=1).fit(X_train, y_train)\n",
    "    y_pred = model.predict(X_test)\n",
    "    print(\"Accuracy for:\",i,metrics.accuracy_score(y_test, y_pred))"
   ]
  },
  {
   "cell_type": "code",
   "execution_count": 61,
   "metadata": {},
   "outputs": [
    {
     "name": "stdout",
     "output_type": "stream",
     "text": [
      "Accuracy for: 0.9899425287356322\n"
     ]
    }
   ],
   "source": [
    "model=LGBMClassifier(n_estimators=350,random_state=1).fit(X_train, y_train)\n",
    "y_pred = model.predict(X_test)\n",
    "print(\"Accuracy for:\",metrics.accuracy_score(y_test, y_pred))"
   ]
  },
  {
   "cell_type": "code",
   "execution_count": 62,
   "metadata": {},
   "outputs": [
    {
     "name": "stdout",
     "output_type": "stream",
     "text": [
      "Confusion Matrix:\n",
      " [[693   0   0   0]\n",
      " [ 22 658   6   0]\n",
      " [  0   0 695   0]\n",
      " [  0   0   0 710]]\n",
      "\n",
      "Classification Report:\n",
      "               precision    recall  f1-score   support\n",
      "\n",
      "         0.0       0.97      1.00      0.98       693\n",
      "         1.0       1.00      0.96      0.98       686\n",
      "         2.0       0.99      1.00      1.00       695\n",
      "         3.0       1.00      1.00      1.00       710\n",
      "\n",
      "    accuracy                           0.99      2784\n",
      "   macro avg       0.99      0.99      0.99      2784\n",
      "weighted avg       0.99      0.99      0.99      2784\n",
      "\n"
     ]
    }
   ],
   "source": [
    "from sklearn.metrics import confusion_matrix\n",
    "confusion_matrix = confusion_matrix(y_test, y_pred)\n",
    "print(\"Confusion Matrix:\\n\",confusion_matrix)\n",
    "from sklearn.metrics import classification_report\n",
    "print(\"\\nClassification Report:\\n\",classification_report(y_test, y_pred))"
   ]
  },
  {
   "cell_type": "markdown",
   "metadata": {},
   "source": [
    ">Stacking\n",
    ">>Stacking (a.k.a Stack Generalization) is an ensemble technique that uses meta-learning for generating predictions. It can harness the capabilities of well-performing as well as weakly-performing models on a classification or regression task and make predictions with better performance than any other single model in the ensemble.\n",
    "\n",
    ">>It is an extended form of the Model Averaging Ensemble technique, where multiple sub-models contribute equally or according to their performance weights to a combined prediction. In Stacking, an entirely new model to trained to combine the contributions from each submodel and produce the best predictions. This final model is said to be stacked on top of the others, hence the name."
   ]
  },
  {
   "cell_type": "code",
   "execution_count": 63,
   "metadata": {},
   "outputs": [],
   "source": [
    "dtc =  DecisionTreeClassifier()\n",
    "rfc = RandomForestClassifier()\n",
    "knn =  KNeighborsClassifier()\n",
    "xgb = XGBClassifier(n_estimators=400,random_state=1,eval_metric='mlogloss')\n",
    "lgb=LGBMClassifier(n_estimators=350,random_state=1)"
   ]
  },
  {
   "cell_type": "code",
   "execution_count": 64,
   "metadata": {},
   "outputs": [
    {
     "name": "stdout",
     "output_type": "stream",
     "text": [
      "The accuracy score of DecisionTreeClassifier() is: 0.9826688374035321\n",
      "The accuracy score of RandomForestClassifier() is: 0.9911999703330837\n",
      "The accuracy score of KNeighborsClassifier() is: 0.9472880971978468\n",
      "The accuracy score of XGBClassifier(base_score=None, booster=None, colsample_bylevel=None,\n",
      "              colsample_bynode=None, colsample_bytree=None,\n",
      "              enable_categorical=False, eval_metric='mlogloss', gamma=None,\n",
      "              gpu_id=None, importance_type=None, interaction_constraints=None,\n",
      "              learning_rate=None, max_delta_step=None, max_depth=None,\n",
      "              min_child_weight=None, missing=nan, monotone_constraints=None,\n",
      "              n_estimators=400, n_jobs=None, num_parallel_tree=None,\n",
      "              predictor=None, random_state=1, reg_alpha=None, reg_lambda=None,\n",
      "              scale_pos_weight=None, subsample=None, tree_method=None,\n",
      "              validate_parameters=None, verbosity=None) is: 0.9871589413102942\n",
      "The accuracy score of LGBMClassifier(n_estimators=350, random_state=1) is: 0.9890446446782148\n"
     ]
    }
   ],
   "source": [
    "from sklearn.model_selection import cross_val_score\n",
    "clf = [dtc,rfc,knn,xgb,lgb]\n",
    "for algo in clf:\n",
    "    score = cross_val_score( algo,X_train,y_train,cv = 5,scoring = 'accuracy')\n",
    "    print(\"The accuracy score of {} is:\".format(algo),score.mean())"
   ]
  },
  {
   "cell_type": "markdown",
   "metadata": {},
   "source": [
    "Level 1 stack"
   ]
  },
  {
   "cell_type": "code",
   "execution_count": 65,
   "metadata": {},
   "outputs": [
    {
     "name": "stdout",
     "output_type": "stream",
     "text": [
      "The accuracy score is: 0.9999101930848676\n"
     ]
    }
   ],
   "source": [
    "from sklearn.ensemble import StackingClassifier\n",
    "from sklearn.model_selection import cross_val_score\n",
    "clf = [('xgb',xgb),('rfc',rfc),('knn',knn)]\n",
    "stack_model = StackingClassifier( estimators = clf,final_estimator = dtc)\n",
    "score = cross_val_score(stack_model,X_train,y_train,cv = 5,scoring = 'accuracy')\n",
    "print(\"The accuracy score is:\",score.mean())"
   ]
  },
  {
   "cell_type": "markdown",
   "metadata": {},
   "source": [
    "Level 2Stack"
   ]
  },
  {
   "cell_type": "code",
   "execution_count": 72,
   "metadata": {},
   "outputs": [
    {
     "data": {
      "text/plain": [
       "0.936373276776246"
      ]
     },
     "execution_count": 72,
     "metadata": {},
     "output_type": "execute_result"
    }
   ],
   "source": [
    "layer_one_estimators = [('knn', knn),('dtc', dtc)]\n",
    "layer_two_estimators = [('lgb', lgb),('xgb', xgb)]\n",
    "layer_two = StackingClassifier(estimators=layer_two_estimators, final_estimator=rfc)\n",
    "\n",
    "# Create Final model by \n",
    "clf = StackingClassifier(estimators=layer_one_estimators, final_estimator=layer_two)\n",
    "\n",
    "X_train, X_test, y_train, y_test = train_test_split(x, y, stratify=y)\n",
    "clf.fit(X_train, y_train).score(X_test, y_test)"
   ]
  }
 ],
 "metadata": {
  "colab": {
   "collapsed_sections": [],
   "name": "ThyroidEDA.ipynb",
   "provenance": []
  },
  "kernelspec": {
   "display_name": "Python 3",
   "language": "python",
   "name": "python3"
  },
  "language_info": {
   "codemirror_mode": {
    "name": "ipython",
    "version": 3
   },
   "file_extension": ".py",
   "mimetype": "text/x-python",
   "name": "python",
   "nbconvert_exporter": "python",
   "pygments_lexer": "ipython3",
   "version": "3.8.8"
  }
 },
 "nbformat": 4,
 "nbformat_minor": 1
}
